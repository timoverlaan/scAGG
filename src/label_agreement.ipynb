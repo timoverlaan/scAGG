{
 "cells": [
  {
   "cell_type": "code",
   "execution_count": 1,
   "metadata": {},
   "outputs": [],
   "source": [
    "import anndata as ad\n",
    "import pandas as pd\n",
    "import numpy as np\n",
    "import seaborn as sns\n",
    "import matplotlib.pyplot as plt\n",
    "\n",
    "sns.set_style('whitegrid')"
   ]
  },
  {
   "cell_type": "code",
   "execution_count": 3,
   "metadata": {},
   "outputs": [
    {
     "data": {
      "text/plain": [
       "{'accuracy': 0.7777777777777778,\n",
       " 'f1': 0.8000000000000002,\n",
       " 'precision': 0.8,\n",
       " 'recall': 0.8,\n",
       " 'roc_auc': 0.8999999999999999}"
      ]
     },
     "execution_count": 3,
     "metadata": {},
     "output_type": "execute_result"
    }
   ],
   "source": [
    "RESULTS_FILE = \"out/results/GAT_2024-05-23-16-24-07_results.h5ad\"  # No-Graph model\n",
    "# RESULTS_FILE = \"out/results/GAT_2024-05-23-16-23-45_results.h5ad\"  # GAT model\n",
    "FOLD = 4\n",
    "ddata = ad.read_h5ad(RESULTS_FILE.replace(\".h5ad\", f\"_donor_{FOLD}.h5ad\"))\n",
    "ddata.uns[\"perf_test\"]"
   ]
  },
  {
   "cell_type": "code",
   "execution_count": 4,
   "metadata": {},
   "outputs": [],
   "source": [
    "wang_labels = []\n",
    "for i, donor in enumerate(ddata.obs_names):\n",
    "    dddata = ddata[ddata.obs_names == donor].copy().obs\n",
    "    cogdx = dddata[\"cogdx\"].values[0]\n",
    "    braaksc = dddata[\"braaksc\"].values[0]\n",
    "    ceradsc = dddata[\"ceradsc\"].values[0]\n",
    "    if cogdx == 4 and braaksc >= 4 and ceradsc <= 2:\n",
    "        wang_labels.append(\"AD\")\n",
    "    elif cogdx == 1 and braaksc <= 3 and ceradsc >= 3:\n",
    "        wang_labels.append(\"CT\")\n",
    "    else:\n",
    "        wang_labels.append(\"Other\")\n",
    "ddata.obs[\"wang_label\"] = wang_labels\n",
    "\n",
    "ddata.obs[\"reagan_desc\"] = ddata.obs[\"niareagansc\"].map({4: \"No AD\", 3: \"Low\", 2: \"Int\", 1: \"High\"})\n",
    "ddata.obs[\"reagan_dich\"] = ddata.obs[\"niareagansc\"].map({4: 0, 3: 0, 2: 1, 1: 1})\n",
    "\n",
    "ddata.obs[\"cogdx_desc\"] = ddata.obs[\"cogdx\"].map({1: \"NCI\", 2: \"MCI\", 3: \"MCI+\", 4: \"AD\", 5: \"AD+\", 6: \"Other\"})\n",
    "ddata.obs[\"cogdx_dich\"] = ddata.obs[\"cogdx\"].map({1: 0, 2: 0, 3: 0, 4: 1, 5: 1, 6: 0})\n",
    "\n",
    "ddata.obs[\"y_true\"] = ddata.obs[\"wang_label\"].map({\"AD\": 1, \"CT\": 0, \"Other\": 2})\n",
    "ddata.obs[\"acc\"] = 1 - np.abs(ddata.obs[\"cogdx_dich\"] - ddata.obs[\"y_pred\"])\n",
    "\n",
    "ddata.obs[\"sex\"] = ddata.obs[\"msex\"].map({0: \"Female\", 1: \"Male\"})"
   ]
  },
  {
   "cell_type": "code",
   "execution_count": 11,
   "metadata": {},
   "outputs": [
    {
     "data": {
      "text/html": [
       "<div>\n",
       "<style scoped>\n",
       "    .dataframe tbody tr th:only-of-type {\n",
       "        vertical-align: middle;\n",
       "    }\n",
       "\n",
       "    .dataframe tbody tr th {\n",
       "        vertical-align: top;\n",
       "    }\n",
       "\n",
       "    .dataframe thead th {\n",
       "        text-align: right;\n",
       "    }\n",
       "</style>\n",
       "<table border=\"1\" class=\"dataframe\">\n",
       "  <thead>\n",
       "    <tr style=\"text-align: right;\">\n",
       "      <th>cogdx_simp</th>\n",
       "      <th>AD(+)</th>\n",
       "      <th>MCI(+)</th>\n",
       "      <th>NCI</th>\n",
       "      <th>Other</th>\n",
       "    </tr>\n",
       "    <tr>\n",
       "      <th>reagan_desc</th>\n",
       "      <th></th>\n",
       "      <th></th>\n",
       "      <th></th>\n",
       "      <th></th>\n",
       "    </tr>\n",
       "  </thead>\n",
       "  <tbody>\n",
       "    <tr>\n",
       "      <th>High</th>\n",
       "      <td>47</td>\n",
       "      <td>8</td>\n",
       "      <td>5</td>\n",
       "      <td>2</td>\n",
       "    </tr>\n",
       "    <tr>\n",
       "      <th>Int</th>\n",
       "      <td>52</td>\n",
       "      <td>35</td>\n",
       "      <td>38</td>\n",
       "      <td>2</td>\n",
       "    </tr>\n",
       "    <tr>\n",
       "      <th>Low</th>\n",
       "      <td>25</td>\n",
       "      <td>38</td>\n",
       "      <td>76</td>\n",
       "      <td>5</td>\n",
       "    </tr>\n",
       "    <tr>\n",
       "      <th>No AD</th>\n",
       "      <td>0</td>\n",
       "      <td>1</td>\n",
       "      <td>5</td>\n",
       "      <td>0</td>\n",
       "    </tr>\n",
       "  </tbody>\n",
       "</table>\n",
       "</div>"
      ],
      "text/plain": [
       "cogdx_simp   AD(+)  MCI(+)  NCI  Other\n",
       "reagan_desc                           \n",
       "High            47       8    5      2\n",
       "Int             52      35   38      2\n",
       "Low             25      38   76      5\n",
       "No AD            0       1    5      0"
      ]
     },
     "metadata": {},
     "output_type": "display_data"
    }
   ],
   "source": [
    "# Now we make tables for the disagreement between the different labels\n",
    "\n",
    "ddata.obs[\"cogdx_simp\"] = ddata.obs[\"cogdx_desc\"].map(\n",
    "    {\"NCI\": \"NCI\", \"MCI\": \"MCI(+)\", \"MCI+\": \"MCI(+)\", \"AD\": \"AD(+)\", \"AD+\": \"AD(+)\", \"Other\": \"Other\"}\n",
    ")\n",
    "\n",
    "# Wang vs Reagan\n",
    "wang_reagan = pd.crosstab(ddata.obs[\"reagan_desc\"], ddata.obs[\"cogdx_simp\"])\n",
    "# wang_reagan = wang_reagan.div(wang_reagan.sum(axis=1), axis=0)\n",
    "display(wang_reagan)"
   ]
  }
 ],
 "metadata": {
  "kernelspec": {
   "display_name": "pyg",
   "language": "python",
   "name": "python3"
  },
  "language_info": {
   "codemirror_mode": {
    "name": "ipython",
    "version": 3
   },
   "file_extension": ".py",
   "mimetype": "text/x-python",
   "name": "python",
   "nbconvert_exporter": "python",
   "pygments_lexer": "ipython3",
   "version": "3.11.6"
  }
 },
 "nbformat": 4,
 "nbformat_minor": 2
}
