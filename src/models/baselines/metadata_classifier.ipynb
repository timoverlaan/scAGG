{
 "cells": [
  {
   "cell_type": "code",
   "execution_count": 127,
   "metadata": {},
   "outputs": [],
   "source": [
    "import pandas as pd\n",
    "import numpy as np\n",
    "import matplotlib.pyplot as plt\n",
    "import seaborn as sns\n",
    "\n",
    "sns.set_style(\"whitegrid\")"
   ]
  },
  {
   "cell_type": "code",
   "execution_count": 2,
   "metadata": {},
   "outputs": [],
   "source": [
    "df = pd.read_csv(\"data/data_ger/Metadata.csv\", index_col=1).drop(\"Unnamed: 0\", axis=1)\n",
    "df[\"cogdx_desc\"] = df[\"cogdx\"].map({1: \"No CI\", 2: \"Mild CI\", 3: \"Mild CI +\", 4: \"AD\", 5: \"AD +\", 6: \"Other\"})"
   ]
  },
  {
   "cell_type": "code",
   "execution_count": 15,
   "metadata": {},
   "outputs": [
    {
     "data": {
      "text/plain": [
       "wang\n",
       "Other    253\n",
       "AD       102\n",
       "CT        72\n",
       "Name: count, dtype: int64"
      ]
     },
     "execution_count": 15,
     "metadata": {},
     "output_type": "execute_result"
    }
   ],
   "source": [
    "wang_AD = np.bitwise_and(np.bitwise_and(df[\"ceradsc\"] <= 2, df[\"braaksc\"] >= 4), df[\"cogdx\"] == 4)\n",
    "wang_CT = np.bitwise_and(np.bitwise_and(df[\"ceradsc\"] >= 3, df[\"braaksc\"] <= 3), df[\"cogdx\"] == 1)\n",
    "df[\"wang\"] = \"Other\"\n",
    "df.loc[wang_AD, \"wang\"] = \"AD\"\n",
    "df.loc[wang_CT, \"wang\"] = \"CT\"\n",
    "df[\"wang\"].value_counts()"
   ]
  },
  {
   "cell_type": "code",
   "execution_count": 94,
   "metadata": {},
   "outputs": [
    {
     "name": "stdout",
     "output_type": "stream",
     "text": [
      "X: (174, 1), y: (174,)\n",
      "   CT  AD\n",
      "F  33  60\n",
      "M  39  42\n"
     ]
    }
   ],
   "source": [
    "from sklearn.metrics import confusion_matrix\n",
    "\n",
    "# Prepare data\n",
    "df_wang = df[df[\"wang\"] != \"Other\"]\n",
    "X = df_wang[\"msex\"].values.reshape(-1, 1)\n",
    "y = df_wang[\"wang\"].map({\"AD\": 1, \"CT\": 0}).values\n",
    "print(f\"X: {X.shape}, y: {y.shape}\")\n",
    "\n",
    "cm = confusion_matrix(X, y)\n",
    "cm = pd.DataFrame(cm, index=[\"F\", \"M\"], columns=[\"CT\", \"AD\"])\n",
    "print(cm)"
   ]
  },
  {
   "cell_type": "code",
   "execution_count": 125,
   "metadata": {},
   "outputs": [
    {
     "data": {
      "text/plain": [
       "1    0.586207\n",
       "0    0.413793\n",
       "Name: proportion, dtype: float64"
      ]
     },
     "execution_count": 125,
     "metadata": {},
     "output_type": "execute_result"
    }
   ],
   "source": [
    "pd.Series(y).value_counts(normalize=True)"
   ]
  },
  {
   "cell_type": "code",
   "execution_count": 122,
   "metadata": {},
   "outputs": [
    {
     "name": "stdout",
     "output_type": "stream",
     "text": [
      "[1. 1. 1. 1. 0. 1. 1. 1. 0. 0. 0. 0. 0. 0. 1. 0. 1. 0. 0. 1. 0. 1. 1. 0.\n",
      " 1. 1. 0. 1. 0. 1. 1. 1. 0. 1. 0. 1. 1. 1. 0. 0. 0. 0. 0. 1. 1. 1. 1. 1.\n",
      " 1. 1. 0. 1. 1. 1. 1. 1. 1. 1. 1. 0. 1. 1. 1. 1. 1. 0. 1. 1. 1. 1. 0. 1.\n",
      " 0. 1. 1. 1. 0. 0. 0. 0. 1. 1. 1. 1. 1. 0. 1. 1. 0. 0. 1. 0. 1. 1. 1. 0.\n",
      " 1. 0. 0. 0. 1. 0. 0. 0. 0. 0. 1. 1. 1. 0. 1. 0. 1. 0. 1. 1. 1. 1. 1. 1.\n",
      " 1. 1. 0. 1. 0. 1. 0. 1. 1. 0. 0. 1. 1. 1. 0. 0. 1. 1. 0. 0. 0. 0. 1. 0.\n",
      " 0. 1. 0. 0. 0. 1. 1. 0. 0. 0. 1. 0. 1. 1. 1. 1. 0. 1. 1. 0. 1. 1. 1. 1.\n",
      " 0. 1. 0. 0. 0. 1.]\n",
      "Accuracy: 0.59 (+/- 0.99)\n"
     ]
    }
   ],
   "source": [
    "# Train some classifiers to predict the Wang labels from msex column\n",
    "from sklearn.linear_model import LogisticRegression\n",
    "from sklearn.model_selection import cross_val_score, LeaveOneOut\n",
    "\n",
    "# clf = LogisticRegression()\n",
    "clf = LogisticRegression()\n",
    "scores = cross_val_score(clf, X, y, cv=LeaveOneOut())\n",
    "print(scores)\n",
    "print(\"Accuracy: %0.2f (+/- %0.2f)\" % (scores.mean(), scores.std() * 2))"
   ]
  }
 ],
 "metadata": {
  "kernelspec": {
   "display_name": "pyg",
   "language": "python",
   "name": "python3"
  },
  "language_info": {
   "codemirror_mode": {
    "name": "ipython",
    "version": 3
   },
   "file_extension": ".py",
   "mimetype": "text/x-python",
   "name": "python",
   "nbconvert_exporter": "python",
   "pygments_lexer": "ipython3",
   "version": "3.11.6"
  }
 },
 "nbformat": 4,
 "nbformat_minor": 2
}
