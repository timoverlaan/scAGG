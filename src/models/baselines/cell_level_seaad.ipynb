{
 "cells": [
  {
   "cell_type": "code",
   "execution_count": 1,
   "metadata": {},
   "outputs": [],
   "source": [
    "import os\n",
    "import torch\n",
    "\n",
    "import anndata as ad\n",
    "import numpy as np\n",
    "import pandas as pd\n",
    "import seaborn as sns\n",
    "import matplotlib.pyplot as plt\n",
    "import scipy.sparse as sp\n",
    "import joblib as jl\n",
    "\n",
    "from tqdm import tqdm, trange\n",
    "\n",
    "import sys\n",
    "sys.path.append(\"src\")  # hacky way to get access to the util.save_perf\n",
    "from util import save_perf"
   ]
  },
  {
   "cell_type": "code",
   "execution_count": 2,
   "metadata": {},
   "outputs": [],
   "source": [
    "adata = ad.read_h5ad(\"data/adata_rosmap_v3_top959.h5ad\")\n",
    "adata_val = ad.read_h5ad(\"data/seaad959_k30_matched.h5ad\")"
   ]
  },
  {
   "cell_type": "code",
   "execution_count": 3,
   "metadata": {},
   "outputs": [],
   "source": [
    "SAMPLE_COL = \"Donor ID\"\n",
    "CELLTYPE_COL = \"Subclass\"\n",
    "LABEL = \"Label\"\n",
    "LABEL_VAL = \"Wang\""
   ]
  },
  {
   "cell_type": "code",
   "execution_count": 4,
   "metadata": {},
   "outputs": [],
   "source": [
    "adata = adata[adata.obs[\"Label\"].isin([\"AD\", \"CT\"])].copy()\n",
    "adata.obs[\"y\"] = adata.obs[\"Label\"].map({\"AD\": 1, \"CT\": 0})"
   ]
  },
  {
   "cell_type": "code",
   "execution_count": 5,
   "metadata": {},
   "outputs": [],
   "source": [
    "adata_val = adata_val[adata_val.obs[LABEL_VAL].isin([\"AD\", \"Healthy\"])].copy()\n",
    "adata_val.obs[\"y\"] = adata_val.obs[LABEL_VAL].map({\"AD\": 1, \"Healthy\": 0})"
   ]
  },
  {
   "cell_type": "code",
   "execution_count": 11,
   "metadata": {},
   "outputs": [],
   "source": [
    "train_x = adata.X\n",
    "train_y = adata.obs[\"y\"].values\n",
    "train_donor_ids = adata.obs[SAMPLE_COL].values  # donor ID each cell belongs to\n",
    "TRAIN_DONORS = np.unique(train_donor_ids)  # unique donor IDs\n",
    "\n",
    "# now get the label of each donor in new_donors\n",
    "# this is the label of the first cell of each donor in new_donors\n",
    "donor_labels = np.array([\n",
    "    train_y[train_donor_ids == donor_id][0] for donor_id in TRAIN_DONORS\n",
    "])\n",
    "\n",
    "# train_x = train_x / train_x.sum(axis=1).reshape(-1, 1) * 1e4\n",
    "# train_x = np.log1p(X)\n",
    "# train_x = (train_x - train_x.mean(axis=0)) / train_x.std(axis=0)\n",
    "# standardizing takes too much memory, because the data is highly sparse"
   ]
  },
  {
   "cell_type": "code",
   "execution_count": 12,
   "metadata": {},
   "outputs": [],
   "source": [
    "val_x = adata_val.X\n",
    "val_y = adata_val.obs[\"y\"].values\n",
    "val_donor_ids = adata_val.obs[SAMPLE_COL].values  # donor ID each\n",
    "VAL_DONORS = np.unique(val_donor_ids)  # unique donor IDs\n",
    "\n",
    "val_donor_labels = np.array([\n",
    "    val_y[val_donor_ids == donor_id][0] for donor_id in VAL_DONORS\n",
    "])\n",
    "\n",
    "# x_val = x_val / x_val.sum(axis=1).reshape(-1, 1) * 1e4\n",
    "# X_val = np.log1p(X_val)\n",
    "# val_x = (val_x - val_x.mean(axis=0)) / val_x.std(axis=0)"
   ]
  },
  {
   "cell_type": "code",
   "execution_count": 33,
   "metadata": {},
   "outputs": [],
   "source": [
    "from sklearn.linear_model import LogisticRegression, Lasso, Ridge\n",
    "from sklearn.metrics import accuracy_score, f1_score, precision_score, recall_score, roc_auc_score\n",
    "\n",
    "# Model definition\n",
    "model = Lasso(alpha=0.01, max_iter=1000)\n",
    "\n",
    "# Model training\n",
    "model.fit(train_x, train_y)\n",
    "\n",
    "# Model evaluation\n",
    "y_pred_train = model.predict(train_x)\n",
    "y_pred_test = model.predict(val_x)\n",
    "\n",
    "test_auc_cell = roc_auc_score(val_y, y_pred_test)\n",
    "train_auc_cell = roc_auc_score(train_y, y_pred_train)\n"
   ]
  },
  {
   "cell_type": "code",
   "execution_count": 34,
   "metadata": {},
   "outputs": [
    {
     "data": {
      "text/plain": [
       "(array([2.00000e+02, 5.62000e+03, 4.24740e+04, 1.42277e+05, 2.30256e+05,\n",
       "        1.59606e+05, 4.80270e+04, 1.05520e+04, 1.67400e+03, 1.42000e+02]),\n",
       " array([-0.00888225,  0.06974838,  0.148379  ,  0.22700962,  0.30564024,\n",
       "         0.38427087,  0.46290149,  0.54153211,  0.62016274,  0.69879336,\n",
       "         0.77742398]),\n",
       " <BarContainer object of 10 artists>)"
      ]
     },
     "execution_count": 34,
     "metadata": {},
     "output_type": "execute_result"
    },
    {
     "data": {
      "image/png": "[encoded data removed]",
      "text/plain": [
       "<Figure size 640x480 with 1 Axes>"
      ]
     },
     "metadata": {},
     "output_type": "display_data"
    }
   ],
   "source": [
    "plt.hist(y_pred_test)"
   ]
  },
  {
   "cell_type": "code",
   "execution_count": 37,
   "metadata": {},
   "outputs": [
    {
     "name": "stdout",
     "output_type": "stream",
     "text": [
      "Train AUC: 0.5916\n",
      "Train Acc: 0.6416\n",
      "Train Prec: 0.7423\n",
      "Train Rec: 0.0019\n",
      "Train F1: 0.0037\n",
      "Test AUC: 0.5870\n",
      "Test Acc: 0.2368\n",
      "Test Prec: 0.8159\n",
      "Test Rec: 0.0468\n",
      "Test F1: 0.0885\n"
     ]
    }
   ],
   "source": [
    "\n",
    "y_pred_train = (y_pred_train > 0.5).astype(int)\n",
    "y_pred_test = (y_pred_test > 0.5).astype(int)\n",
    "        \n",
    "test_acc_cell = accuracy_score(val_y, y_pred_test)\n",
    "test_prec_cell = precision_score(val_y, y_pred_test)\n",
    "test_rec_cell = recall_score(val_y, y_pred_test)\n",
    "test_f1_cell = f1_score(val_y, y_pred_test)\n",
    "\n",
    "train_acc_cell = accuracy_score(train_y, y_pred_train)\n",
    "train_prec_cell = precision_score(train_y, y_pred_train)\n",
    "train_rec_cell = recall_score(train_y, y_pred_train)\n",
    "train_f1_cell = f1_score(train_y, y_pred_train)\n",
    "\n",
    "# print results\n",
    "print(f\"Train AUC: {train_auc_cell:.4f}\")\n",
    "print(f\"Train Acc: {train_acc_cell:.4f}\")\n",
    "print(f\"Train Prec: {train_prec_cell:.4f}\")\n",
    "print(f\"Train Rec: {train_rec_cell:.4f}\")\n",
    "print(f\"Train F1: {train_f1_cell:.4f}\")\n",
    "\n",
    "print(f\"Test AUC: {test_auc_cell:.4f}\")\n",
    "print(f\"Test Acc: {test_acc_cell:.4f}\")\n",
    "print(f\"Test Prec: {test_prec_cell:.4f}\")\n",
    "print(f\"Test Rec: {test_rec_cell:.4f}\")\n",
    "print(f\"Test F1: {test_f1_cell:.4f}\")\n",
    "\n"
   ]
  },
  {
   "cell_type": "code",
   "execution_count": 39,
   "metadata": {},
   "outputs": [
    {
     "name": "stdout",
     "output_type": "stream",
     "text": [
      "acc  (cell) = 0.2368, acc  (donor) = 0.8250\n",
      "prec (cell) = 0.8159, prec (donor) = 0.8421\n",
      "rec  (cell) = 0.0468, rec  (donor) = 0.9697\n",
      "f1   (cell) = 0.0885, f1   (donor) = 0.9014\n",
      "auc  (cell) = 0.5870, auc  (donor) = 0.5498\n"
     ]
    }
   ],
   "source": [
    "# But now we want to aggregate predictions per donor\n",
    "donor_pred = []\n",
    "donor_true = []\n",
    "for donor in VAL_DONORS:\n",
    "    idx = (val_donor_ids == donor)\n",
    "    donor_pred.append(y_pred_test[idx].mean())\n",
    "    donor_true.append(val_y[idx][0])\n",
    "donor_pred = np.array(donor_pred)\n",
    "donor_true = np.array(donor_true)\n",
    "\n",
    "# Also for training data \n",
    "donor_pred_train = []\n",
    "donor_true_train = []\n",
    "for donor in TRAIN_DONORS:\n",
    "    idx = (train_donor_ids == donor)\n",
    "    donor_pred_train.append(y_pred_train[idx].mean())\n",
    "    donor_true_train.append(train_y[idx][0])\n",
    "donor_pred_train = np.array(donor_pred_train)\n",
    "donor_true_train = np.array(donor_true_train)\n",
    "\n",
    "# Pick best threshold based on training data:\n",
    "thresholds = np.linspace(0, 1, 101)\n",
    "best_threshold = 0\n",
    "best_acc = 0\n",
    "for threshold in thresholds:\n",
    "    donor_pred_train_ = (donor_pred_train > threshold).astype(int)\n",
    "    acc = accuracy_score(donor_true_train, donor_pred_train_)\n",
    "    if acc > best_acc:\n",
    "        best_acc = acc\n",
    "        best_threshold = threshold\n",
    "\n",
    "# Metrics per donor\n",
    "test_auc_donor = roc_auc_score(donor_true, donor_pred)\n",
    "donor_pred_soft = donor_pred.copy()\n",
    "donor_pred = (donor_pred > best_threshold).astype(int)\n",
    "\n",
    "test_acc_donor = accuracy_score(donor_true, donor_pred)\n",
    "test_prec_donor = precision_score(donor_true, donor_pred)\n",
    "test_rec_donor = recall_score(donor_true, donor_pred)\n",
    "test_f1_donor = f1_score(donor_true, donor_pred)\n",
    "\n",
    "print(f\"acc  (cell) = {test_acc_cell:.4f}, acc  (donor) = {test_acc_donor:.4f}\")\n",
    "print(f\"prec (cell) = {test_prec_cell:.4f}, prec (donor) = {test_prec_donor:.4f}\")\n",
    "print(f\"rec  (cell) = {test_rec_cell:.4f}, rec  (donor) = {test_rec_donor:.4f}\")\n",
    "print(f\"f1   (cell) = {test_f1_cell:.4f}, f1   (donor) = {test_f1_donor:.4f}\")\n",
    "print(f\"auc  (cell) = {test_auc_cell:.4f}, auc  (donor) = {test_auc_donor:.4f}\")\n",
    "\n",
    "save_perf(\n",
    "    exp_name=\"SeaAD\",\n",
    "    model_name=\"Cell-level\",\n",
    "    fold=0,\n",
    "    accuracy=test_acc_donor,\n",
    "    precision=test_prec_donor,\n",
    "    recall=test_rec_donor,\n",
    "    f1=test_f1_donor,\n",
    "    roc_auc=test_auc_donor,\n",
    "    train_donors=TRAIN_DONORS,\n",
    "    test_donors=VAL_DONORS,\n",
    "    train_y=donor_true_train,\n",
    "    test_y=donor_true,\n",
    "    test_y_pred=donor_pred_soft.flatten().tolist(),\n",
    "    note=\"Lasso-regression, alpha=0.01, max_iter=1000. no-standardization.\"\n",
    ")\n",
    "\n",
    "#     accuracy=test_acc_donor[-1],\n",
    "#     precision=test_prec_donor[-1],\n",
    "#     recall=test_rec_donor[-1],\n",
    "#     f1=test_f1_donor[-1],\n",
    "#     roc_auc=test_auc_donor[-1],\n",
    "#     train_donors=train_donors,\n",
    "#     test_donors=test_donors,\n",
    "#     train_y=donor_labels[train_index],\n",
    "#     test_y=donor_labels[test_index],\n",
    "#     train_y_pred=donor_pred_train.flatten(),\n",
    "#     test_y_pred=donor_pred.flatten(),\n",
    "# )\n"
   ]
  }
 ],
 "metadata": {
  "kernelspec": {
   "display_name": "default",
   "language": "python",
   "name": "python3"
  },
  "language_info": {
   "codemirror_mode": {
    "name": "ipython",
    "version": 3
   },
   "file_extension": ".py",
   "mimetype": "text/x-python",
   "name": "python",
   "nbconvert_exporter": "python",
   "pygments_lexer": "ipython3",
   "version": "3.12.11"
  }
 },
 "nbformat": 4,
 "nbformat_minor": 2
}
