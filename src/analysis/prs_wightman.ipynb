{
 "cells": [
  {
   "cell_type": "markdown",
   "id": "f063bb4b",
   "metadata": {},
   "source": [
    "# Polygenic Risk Scores"
   ]
  },
  {
   "cell_type": "markdown",
   "id": "0ee4fce0",
   "metadata": {},
   "source": [
    "The csv files were extracted from this file: `data/ROSMAP_SEAAD_AD_107.rds`, using the following 3 lines of R code:\n",
    "\n",
    "```R\n",
    "df <- readRDS(\"data/ROSMAP_SEAAD_AD_107.rds\")\n",
    "write.csv(df[1], \"data/SNPs_metadata.csv\", row.names = TRUE)\n",
    "write.csv(df[2], \"data/SNPs.csv\", row.names = TRUE)\n",
    "```\n",
    "\n",
    "The polygenic risk score $PRS_i$ for sample $i$ is then calculated using:\n",
    "$$\n",
    "PRS_i = \\sum_{j=1}^M \\beta_j \\cdot G_{ij}\n",
    "$$\n",
    "\n",
    "where $\\beta_j$ are the weights from the study (odds-ratio), and $G_{ij}$ the dosage of risk SNP $j$ in sample $i$\n",
    "\n",
    "\n",
    "Same as the other TWO notebooks, but now I use the actual weights from the paper that I found. This is from the same Wightman paper: (Wightman 2021): https://www.nature.com/articles/s41588-021-00921-z"
   ]
  },
  {
   "cell_type": "code",
   "execution_count": 51,
   "id": "b1fb6bc8",
   "metadata": {},
   "outputs": [],
   "source": [
    "import pandas as pd\n",
    "import numpy as np\n",
    "import matplotlib.pyplot as plt\n",
    "import seaborn as sns\n",
    "\n",
    "sns.set_style(\"whitegrid\")"
   ]
  },
  {
   "cell_type": "code",
   "execution_count": 64,
   "id": "e705a9f9",
   "metadata": {},
   "outputs": [],
   "source": [
    "snps = pd.read_csv(\"data/SNPs.csv\", index_col=0)\n",
    "snps_meta = pd.read_csv(\"data/SNPs_metadata.csv\", index_col=0).replace({\"TRUE\": \"T\"})  # Fix a small mistake in the metadata\n",
    "\n",
    "weights_file = \"data/AD_variant_wightman.xlsx\"\n",
    "weights = pd.read_excel(weights_file, index_col=0)\n",
    "weights[\"Gene\"] = weights.index\n",
    "weights.set_index(\"Lead variant\", inplace=True)"
   ]
  },
  {
   "cell_type": "code",
   "execution_count": 66,
   "id": "0b17f1a9",
   "metadata": {},
   "outputs": [
    {
     "data": {
      "text/plain": [
       "(False, False)"
      ]
     },
     "execution_count": 66,
     "metadata": {},
     "output_type": "execute_result"
    }
   ],
   "source": [
    "\"rs429358\" in weights.index, \"rs7412\" in weights.index  # Check if APOE e2/e4 SNPs are in the weights"
   ]
  },
  {
   "cell_type": "code",
   "execution_count": 67,
   "id": "d7a69771",
   "metadata": {},
   "outputs": [
    {
     "name": "stdout",
     "output_type": "stream",
     "text": [
      "35 variants overlap with weights, out of 106 total variants in metadata and 38 total variants in weights.\n"
     ]
    },
    {
     "data": {
      "application/vnd.microsoft.datawrangler.viewer.v0+json": {
       "columns": [
        {
         "name": "Lead variant",
         "rawType": "object",
         "type": "string"
        },
        {
         "name": "Position (GRCh37)",
         "rawType": "object",
         "type": "string"
        },
        {
         "name": "A1",
         "rawType": "object",
         "type": "string"
        },
        {
         "name": "A1 Freq",
         "rawType": "float64",
         "type": "float"
        },
        {
         "name": "BETA",
         "rawType": "float64",
         "type": "float"
        },
        {
         "name": "SE",
         "rawType": "float64",
         "type": "float"
        },
        {
         "name": "P",
         "rawType": "object",
         "type": "string"
        },
        {
         "name": "N",
         "rawType": "int64",
         "type": "integer"
        },
        {
         "name": "Gene",
         "rawType": "object",
         "type": "string"
        }
       ],
       "ref": "7c119bf9-35cd-4804-9549-4fd5e736b16a",
       "rows": [
        [
         "rs679515",
         "1:207750568",
         "C",
         "0.82",
         "-0.022",
         "0.0021",
         "2.42x10-25",
         "762176",
         "CR1"
        ],
        [
         "rs115186657",
         "2:106235428",
         "C",
         "0.0035",
         "0.08",
         "0.014",
         "1.33x10-8",
         "727537",
         "FHL2"
        ],
        [
         "rs4663105",
         "2:127891427",
         "C",
         "0.41",
         "0.022",
         "0.0014",
         "3.92x10-58",
         "1078540",
         "BIN1"
        ],
        [
         "rs7597763",
         "2:234082577",
         "C",
         "0.45",
         "0.0092",
         "0.0016",
         "4.65x10-9",
         "819541",
         "INPPD5"
        ],
        [
         "rs4504245",
         "4:11014822",
         "G",
         "0.79",
         "-0.012",
         "0.0017",
         "5.23x10-12",
         "1080458",
         "CLNK"
        ],
        [
         "rs871269",
         "5:150432388",
         "T",
         "0.32",
         "-0.0088",
         "0.0014",
         "1.37x10-9",
         "1089904",
         "TNIP1"
        ],
        [
         "rs6891966",
         "5:156526331",
         "G",
         "0.77",
         "0.0099",
         "0.0016",
         "7.91x10-10",
         "1089230",
         "HAVCR2"
        ],
        [
         "rs1846190",
         "6:32583813",
         "A",
         "0.3",
         "-0.013",
         "0.0018",
         "2.66x10-14",
         "754040",
         "HLA-DRB1"
        ],
        [
         "rs187370608",
         "6:40942196",
         "G",
         "0.997",
         "-0.16",
         "0.015",
         "1.26x10-25",
         "791668",
         "TREM2"
        ],
        [
         "rs9369716",
         "6:47552180",
         "T",
         "0.27",
         "0.013",
         "0.0016",
         "1.70x10-17",
         "1052285",
         "CD2AP"
        ],
        [
         "rs5011436",
         "7:12268758",
         "C",
         "0.41",
         "-0.0081",
         "0.0014",
         "2.70x10-9",
         "1123678",
         "TMEM106B"
        ],
        [
         "rs7384878",
         "7:99932049",
         "T",
         "0.69",
         "0.012",
         "0.0015",
         "9.41x10-16",
         "1084138",
         "ZCWPW1"
        ],
        [
         "rs3935067",
         "7:143104331",
         "G",
         "0.62",
         "-0.0091",
         "0.0014",
         "4.69x10-11",
         "1117025",
         "EPHA1"
        ],
        [
         "rs1532278",
         "8:27466315",
         "T",
         "0.39",
         "-0.013",
         "0.0014",
         "1.57x10-22",
         "1126563",
         "CLU"
        ],
        [
         "rs61732533",
         "8:145108151",
         "G",
         "0.95",
         "-0.018",
         "0.0031",
         "3.14x10-9",
         "1122653",
         "SHARPIN"
        ],
        [
         "rs7912495",
         "10:11718713",
         "G",
         "0.46",
         "0.01",
         "0.0013",
         "7.68x10-15",
         "1120367",
         "ECHDC3"
        ],
        [
         "rs7902657",
         "10:61738152",
         "T",
         "0.54",
         "0.0074",
         "0.0013",
         "3.68x10-8",
         "1126388",
         "CCDC6"
        ],
        [
         "rs3740688",
         "11:47380340",
         "T",
         "0.54",
         "0.0077",
         "0.0013",
         "8.78x10-9",
         "1123185",
         "MADD"
        ],
        [
         "rs1582763",
         "11:60021948",
         "G",
         "0.62",
         "0.016",
         "0.0014",
         "3.40x10-33",
         "1125804",
         "MS4A6A"
        ],
        [
         "rs561655",
         "11:85800279",
         "G",
         "0.35",
         "-0.015",
         "0.0014",
         "1.24x10-26",
         "1126563",
         "PICALM"
        ],
        [
         "rs11218343",
         "11:121435587",
         "T",
         "0.96",
         "0.027",
         "0.0036",
         "1.33x10-13",
         "1125100",
         "SORL1"
        ],
        [
         "rs7146179",
         "14:53298853",
         "G",
         "0.89",
         "-0.014",
         "0.0022",
         "6.99x10-11",
         "1089904",
         "FERMT2"
        ],
        [
         "rs12590654",
         "14:92938855",
         "G",
         "0.67",
         "0.012",
         "0.0014",
         "6.63x10-17",
         "1116967",
         "SLC24A4"
        ],
        [
         "rs602602",
         "15:59057023",
         "T",
         "0.7",
         "0.011",
         "0.0015",
         "6.22x10-15",
         "1124268",
         "ADAM10"
        ],
        [
         "rs117618017",
         "15:63569902",
         "T",
         "0.13",
         "0.015",
         "0.0022",
         "7.00x10-12",
         "889854",
         "APH1B"
        ],
        [
         "rs7209200",
         "17:4969940",
         "T",
         "0.33",
         "0.0078",
         "0.0014",
         "3.18x10-8",
         "1125637",
         "CHRNE"
        ],
        [
         "rs708382",
         "17:42442344",
         "T",
         "0.61",
         "-0.0082",
         "0.0014",
         "1.98x10-9",
         "1125622",
         "GRN"
        ],
        [
         "rs28394864",
         "17:47450775",
         "G",
         "0.54",
         "-0.0085",
         "0.0014",
         "4.90x10-10",
         "1084218",
         "ABI3"
        ],
        [
         "rs2632516",
         "17:56409089",
         "G",
         "0.54",
         "0.0084",
         "0.0014",
         "7.46x10-10",
         "1082451",
         "AC004687.2"
        ],
        [
         "rs6504163",
         "17:61545779",
         "T",
         "0.61",
         "0.0085",
         "0.0014",
         "1.23x10-9",
         "1083145",
         "ACE"
        ],
        [
         "rs2452170",
         "19:49213504",
         "G",
         "0.47",
         "-0.0077",
         "0.0014",
         "1.72x10-8",
         "1088626",
         "NTN5"
        ],
        [
         "rs1354106",
         "19:51737991",
         "G",
         "0.37",
         "-0.011",
         "0.0017",
         "2.21x10-10",
         "716038",
         "CD33"
        ],
        [
         "rs1761461",
         "19:54825174",
         "C",
         "0.49",
         "0.0081",
         "0.0013",
         "1.56x10-9",
         "1116336",
         "KIR3DL2"
        ],
        [
         "rs6069737",
         "20:54995699",
         "T",
         "0.083",
         "-0.02",
         "0.0025",
         "6.73x10-16",
         "1087703",
         "CASS4"
        ],
        [
         "rs2154482",
         "21:27520931",
         "T",
         "0.44",
         "-0.0083",
         "0.0013",
         "7.66x10-10",
         "1124606",
         "APP"
        ]
       ],
       "shape": {
        "columns": 8,
        "rows": 35
       }
      },
      "text/html": [
       "<div>\n",
       "<style scoped>\n",
       "    .dataframe tbody tr th:only-of-type {\n",
       "        vertical-align: middle;\n",
       "    }\n",
       "\n",
       "    .dataframe tbody tr th {\n",
       "        vertical-align: top;\n",
       "    }\n",
       "\n",
       "    .dataframe thead th {\n",
       "        text-align: right;\n",
       "    }\n",
       "</style>\n",
       "<table border=\"1\" class=\"dataframe\">\n",
       "  <thead>\n",
       "    <tr style=\"text-align: right;\">\n",
       "      <th></th>\n",
       "      <th>Position (GRCh37)</th>\n",
       "      <th>A1</th>\n",
       "      <th>A1 Freq</th>\n",
       "      <th>BETA</th>\n",
       "      <th>SE</th>\n",
       "      <th>P</th>\n",
       "      <th>N</th>\n",
       "      <th>Gene</th>\n",
       "    </tr>\n",
       "    <tr>\n",
       "      <th>Lead variant</th>\n",
       "      <th></th>\n",
       "      <th></th>\n",
       "      <th></th>\n",
       "      <th></th>\n",
       "      <th></th>\n",
       "      <th></th>\n",
       "      <th></th>\n",
       "      <th></th>\n",
       "    </tr>\n",
       "  </thead>\n",
       "  <tbody>\n",
       "    <tr>\n",
       "      <th>rs679515</th>\n",
       "      <td>1:207750568</td>\n",
       "      <td>C</td>\n",
       "      <td>0.8200</td>\n",
       "      <td>-0.0220</td>\n",
       "      <td>0.0021</td>\n",
       "      <td>2.42x10-25</td>\n",
       "      <td>762176</td>\n",
       "      <td>CR1</td>\n",
       "    </tr>\n",
       "    <tr>\n",
       "      <th>rs115186657</th>\n",
       "      <td>2:106235428</td>\n",
       "      <td>C</td>\n",
       "      <td>0.0035</td>\n",
       "      <td>0.0800</td>\n",
       "      <td>0.0140</td>\n",
       "      <td>1.33x10-8</td>\n",
       "      <td>727537</td>\n",
       "      <td>FHL2</td>\n",
       "    </tr>\n",
       "    <tr>\n",
       "      <th>rs4663105</th>\n",
       "      <td>2:127891427</td>\n",
       "      <td>C</td>\n",
       "      <td>0.4100</td>\n",
       "      <td>0.0220</td>\n",
       "      <td>0.0014</td>\n",
       "      <td>3.92x10-58</td>\n",
       "      <td>1078540</td>\n",
       "      <td>BIN1</td>\n",
       "    </tr>\n",
       "    <tr>\n",
       "      <th>rs7597763</th>\n",
       "      <td>2:234082577</td>\n",
       "      <td>C</td>\n",
       "      <td>0.4500</td>\n",
       "      <td>0.0092</td>\n",
       "      <td>0.0016</td>\n",
       "      <td>4.65x10-9</td>\n",
       "      <td>819541</td>\n",
       "      <td>INPPD5</td>\n",
       "    </tr>\n",
       "    <tr>\n",
       "      <th>rs4504245</th>\n",
       "      <td>4:11014822</td>\n",
       "      <td>G</td>\n",
       "      <td>0.7900</td>\n",
       "      <td>-0.0120</td>\n",
       "      <td>0.0017</td>\n",
       "      <td>5.23x10-12</td>\n",
       "      <td>1080458</td>\n",
       "      <td>CLNK</td>\n",
       "    </tr>\n",
       "    <tr>\n",
       "      <th>rs871269</th>\n",
       "      <td>5:150432388</td>\n",
       "      <td>T</td>\n",
       "      <td>0.3200</td>\n",
       "      <td>-0.0088</td>\n",
       "      <td>0.0014</td>\n",
       "      <td>1.37x10-9</td>\n",
       "      <td>1089904</td>\n",
       "      <td>TNIP1</td>\n",
       "    </tr>\n",
       "    <tr>\n",
       "      <th>rs6891966</th>\n",
       "      <td>5:156526331</td>\n",
       "      <td>G</td>\n",
       "      <td>0.7700</td>\n",
       "      <td>0.0099</td>\n",
       "      <td>0.0016</td>\n",
       "      <td>7.91x10-10</td>\n",
       "      <td>1089230</td>\n",
       "      <td>HAVCR2</td>\n",
       "    </tr>\n",
       "    <tr>\n",
       "      <th>rs1846190</th>\n",
       "      <td>6:32583813</td>\n",
       "      <td>A</td>\n",
       "      <td>0.3000</td>\n",
       "      <td>-0.0130</td>\n",
       "      <td>0.0018</td>\n",
       "      <td>2.66x10-14</td>\n",
       "      <td>754040</td>\n",
       "      <td>HLA-DRB1</td>\n",
       "    </tr>\n",
       "    <tr>\n",
       "      <th>rs187370608</th>\n",
       "      <td>6:40942196</td>\n",
       "      <td>G</td>\n",
       "      <td>0.9970</td>\n",
       "      <td>-0.1600</td>\n",
       "      <td>0.0150</td>\n",
       "      <td>1.26x10-25</td>\n",
       "      <td>791668</td>\n",
       "      <td>TREM2</td>\n",
       "    </tr>\n",
       "    <tr>\n",
       "      <th>rs9369716</th>\n",
       "      <td>6:47552180</td>\n",
       "      <td>T</td>\n",
       "      <td>0.2700</td>\n",
       "      <td>0.0130</td>\n",
       "      <td>0.0016</td>\n",
       "      <td>1.70x10-17</td>\n",
       "      <td>1052285</td>\n",
       "      <td>CD2AP</td>\n",
       "    </tr>\n",
       "    <tr>\n",
       "      <th>rs5011436</th>\n",
       "      <td>7:12268758</td>\n",
       "      <td>C</td>\n",
       "      <td>0.4100</td>\n",
       "      <td>-0.0081</td>\n",
       "      <td>0.0014</td>\n",
       "      <td>2.70x10-9</td>\n",
       "      <td>1123678</td>\n",
       "      <td>TMEM106B</td>\n",
       "    </tr>\n",
       "    <tr>\n",
       "      <th>rs7384878</th>\n",
       "      <td>7:99932049</td>\n",
       "      <td>T</td>\n",
       "      <td>0.6900</td>\n",
       "      <td>0.0120</td>\n",
       "      <td>0.0015</td>\n",
       "      <td>9.41x10-16</td>\n",
       "      <td>1084138</td>\n",
       "      <td>ZCWPW1</td>\n",
       "    </tr>\n",
       "    <tr>\n",
       "      <th>rs3935067</th>\n",
       "      <td>7:143104331</td>\n",
       "      <td>G</td>\n",
       "      <td>0.6200</td>\n",
       "      <td>-0.0091</td>\n",
       "      <td>0.0014</td>\n",
       "      <td>4.69x10-11</td>\n",
       "      <td>1117025</td>\n",
       "      <td>EPHA1</td>\n",
       "    </tr>\n",
       "    <tr>\n",
       "      <th>rs1532278</th>\n",
       "      <td>8:27466315</td>\n",
       "      <td>T</td>\n",
       "      <td>0.3900</td>\n",
       "      <td>-0.0130</td>\n",
       "      <td>0.0014</td>\n",
       "      <td>1.57x10-22</td>\n",
       "      <td>1126563</td>\n",
       "      <td>CLU</td>\n",
       "    </tr>\n",
       "    <tr>\n",
       "      <th>rs61732533</th>\n",
       "      <td>8:145108151</td>\n",
       "      <td>G</td>\n",
       "      <td>0.9500</td>\n",
       "      <td>-0.0180</td>\n",
       "      <td>0.0031</td>\n",
       "      <td>3.14x10-9</td>\n",
       "      <td>1122653</td>\n",
       "      <td>SHARPIN</td>\n",
       "    </tr>\n",
       "    <tr>\n",
       "      <th>rs7912495</th>\n",
       "      <td>10:11718713</td>\n",
       "      <td>G</td>\n",
       "      <td>0.4600</td>\n",
       "      <td>0.0100</td>\n",
       "      <td>0.0013</td>\n",
       "      <td>7.68x10-15</td>\n",
       "      <td>1120367</td>\n",
       "      <td>ECHDC3</td>\n",
       "    </tr>\n",
       "    <tr>\n",
       "      <th>rs7902657</th>\n",
       "      <td>10:61738152</td>\n",
       "      <td>T</td>\n",
       "      <td>0.5400</td>\n",
       "      <td>0.0074</td>\n",
       "      <td>0.0013</td>\n",
       "      <td>3.68x10-8</td>\n",
       "      <td>1126388</td>\n",
       "      <td>CCDC6</td>\n",
       "    </tr>\n",
       "    <tr>\n",
       "      <th>rs3740688</th>\n",
       "      <td>11:47380340</td>\n",
       "      <td>T</td>\n",
       "      <td>0.5400</td>\n",
       "      <td>0.0077</td>\n",
       "      <td>0.0013</td>\n",
       "      <td>8.78x10-9</td>\n",
       "      <td>1123185</td>\n",
       "      <td>MADD</td>\n",
       "    </tr>\n",
       "    <tr>\n",
       "      <th>rs1582763</th>\n",
       "      <td>11:60021948</td>\n",
       "      <td>G</td>\n",
       "      <td>0.6200</td>\n",
       "      <td>0.0160</td>\n",
       "      <td>0.0014</td>\n",
       "      <td>3.40x10-33</td>\n",
       "      <td>1125804</td>\n",
       "      <td>MS4A6A</td>\n",
       "    </tr>\n",
       "    <tr>\n",
       "      <th>rs561655</th>\n",
       "      <td>11:85800279</td>\n",
       "      <td>G</td>\n",
       "      <td>0.3500</td>\n",
       "      <td>-0.0150</td>\n",
       "      <td>0.0014</td>\n",
       "      <td>1.24x10-26</td>\n",
       "      <td>1126563</td>\n",
       "      <td>PICALM</td>\n",
       "    </tr>\n",
       "    <tr>\n",
       "      <th>rs11218343</th>\n",
       "      <td>11:121435587</td>\n",
       "      <td>T</td>\n",
       "      <td>0.9600</td>\n",
       "      <td>0.0270</td>\n",
       "      <td>0.0036</td>\n",
       "      <td>1.33x10-13</td>\n",
       "      <td>1125100</td>\n",
       "      <td>SORL1</td>\n",
       "    </tr>\n",
       "    <tr>\n",
       "      <th>rs7146179</th>\n",
       "      <td>14:53298853</td>\n",
       "      <td>G</td>\n",
       "      <td>0.8900</td>\n",
       "      <td>-0.0140</td>\n",
       "      <td>0.0022</td>\n",
       "      <td>6.99x10-11</td>\n",
       "      <td>1089904</td>\n",
       "      <td>FERMT2</td>\n",
       "    </tr>\n",
       "    <tr>\n",
       "      <th>rs12590654</th>\n",
       "      <td>14:92938855</td>\n",
       "      <td>G</td>\n",
       "      <td>0.6700</td>\n",
       "      <td>0.0120</td>\n",
       "      <td>0.0014</td>\n",
       "      <td>6.63x10-17</td>\n",
       "      <td>1116967</td>\n",
       "      <td>SLC24A4</td>\n",
       "    </tr>\n",
       "    <tr>\n",
       "      <th>rs602602</th>\n",
       "      <td>15:59057023</td>\n",
       "      <td>T</td>\n",
       "      <td>0.7000</td>\n",
       "      <td>0.0110</td>\n",
       "      <td>0.0015</td>\n",
       "      <td>6.22x10-15</td>\n",
       "      <td>1124268</td>\n",
       "      <td>ADAM10</td>\n",
       "    </tr>\n",
       "    <tr>\n",
       "      <th>rs117618017</th>\n",
       "      <td>15:63569902</td>\n",
       "      <td>T</td>\n",
       "      <td>0.1300</td>\n",
       "      <td>0.0150</td>\n",
       "      <td>0.0022</td>\n",
       "      <td>7.00x10-12</td>\n",
       "      <td>889854</td>\n",
       "      <td>APH1B</td>\n",
       "    </tr>\n",
       "    <tr>\n",
       "      <th>rs7209200</th>\n",
       "      <td>17:4969940</td>\n",
       "      <td>T</td>\n",
       "      <td>0.3300</td>\n",
       "      <td>0.0078</td>\n",
       "      <td>0.0014</td>\n",
       "      <td>3.18x10-8</td>\n",
       "      <td>1125637</td>\n",
       "      <td>CHRNE</td>\n",
       "    </tr>\n",
       "    <tr>\n",
       "      <th>rs708382</th>\n",
       "      <td>17:42442344</td>\n",
       "      <td>T</td>\n",
       "      <td>0.6100</td>\n",
       "      <td>-0.0082</td>\n",
       "      <td>0.0014</td>\n",
       "      <td>1.98x10-9</td>\n",
       "      <td>1125622</td>\n",
       "      <td>GRN</td>\n",
       "    </tr>\n",
       "    <tr>\n",
       "      <th>rs28394864</th>\n",
       "      <td>17:47450775</td>\n",
       "      <td>G</td>\n",
       "      <td>0.5400</td>\n",
       "      <td>-0.0085</td>\n",
       "      <td>0.0014</td>\n",
       "      <td>4.90x10-10</td>\n",
       "      <td>1084218</td>\n",
       "      <td>ABI3</td>\n",
       "    </tr>\n",
       "    <tr>\n",
       "      <th>rs2632516</th>\n",
       "      <td>17:56409089</td>\n",
       "      <td>G</td>\n",
       "      <td>0.5400</td>\n",
       "      <td>0.0084</td>\n",
       "      <td>0.0014</td>\n",
       "      <td>7.46x10-10</td>\n",
       "      <td>1082451</td>\n",
       "      <td>AC004687.2</td>\n",
       "    </tr>\n",
       "    <tr>\n",
       "      <th>rs6504163</th>\n",
       "      <td>17:61545779</td>\n",
       "      <td>T</td>\n",
       "      <td>0.6100</td>\n",
       "      <td>0.0085</td>\n",
       "      <td>0.0014</td>\n",
       "      <td>1.23x10-9</td>\n",
       "      <td>1083145</td>\n",
       "      <td>ACE</td>\n",
       "    </tr>\n",
       "    <tr>\n",
       "      <th>rs2452170</th>\n",
       "      <td>19:49213504</td>\n",
       "      <td>G</td>\n",
       "      <td>0.4700</td>\n",
       "      <td>-0.0077</td>\n",
       "      <td>0.0014</td>\n",
       "      <td>1.72x10-8</td>\n",
       "      <td>1088626</td>\n",
       "      <td>NTN5</td>\n",
       "    </tr>\n",
       "    <tr>\n",
       "      <th>rs1354106</th>\n",
       "      <td>19:51737991</td>\n",
       "      <td>G</td>\n",
       "      <td>0.3700</td>\n",
       "      <td>-0.0110</td>\n",
       "      <td>0.0017</td>\n",
       "      <td>2.21x10-10</td>\n",
       "      <td>716038</td>\n",
       "      <td>CD33</td>\n",
       "    </tr>\n",
       "    <tr>\n",
       "      <th>rs1761461</th>\n",
       "      <td>19:54825174</td>\n",
       "      <td>C</td>\n",
       "      <td>0.4900</td>\n",
       "      <td>0.0081</td>\n",
       "      <td>0.0013</td>\n",
       "      <td>1.56x10-9</td>\n",
       "      <td>1116336</td>\n",
       "      <td>KIR3DL2</td>\n",
       "    </tr>\n",
       "    <tr>\n",
       "      <th>rs6069737</th>\n",
       "      <td>20:54995699</td>\n",
       "      <td>T</td>\n",
       "      <td>0.0830</td>\n",
       "      <td>-0.0200</td>\n",
       "      <td>0.0025</td>\n",
       "      <td>6.73x10-16</td>\n",
       "      <td>1087703</td>\n",
       "      <td>CASS4</td>\n",
       "    </tr>\n",
       "    <tr>\n",
       "      <th>rs2154482</th>\n",
       "      <td>21:27520931</td>\n",
       "      <td>T</td>\n",
       "      <td>0.4400</td>\n",
       "      <td>-0.0083</td>\n",
       "      <td>0.0013</td>\n",
       "      <td>7.66x10-10</td>\n",
       "      <td>1124606</td>\n",
       "      <td>APP</td>\n",
       "    </tr>\n",
       "  </tbody>\n",
       "</table>\n",
       "</div>"
      ],
      "text/plain": [
       "             Position (GRCh37) A1  A1 Freq    BETA      SE           P  \\\n",
       "Lead variant                                                             \n",
       "rs679515           1:207750568  C   0.8200 -0.0220  0.0021  2.42x10-25   \n",
       "rs115186657        2:106235428  C   0.0035  0.0800  0.0140   1.33x10-8   \n",
       "rs4663105          2:127891427  C   0.4100  0.0220  0.0014  3.92x10-58   \n",
       "rs7597763          2:234082577  C   0.4500  0.0092  0.0016   4.65x10-9   \n",
       "rs4504245           4:11014822  G   0.7900 -0.0120  0.0017  5.23x10-12   \n",
       "rs871269           5:150432388  T   0.3200 -0.0088  0.0014   1.37x10-9   \n",
       "rs6891966          5:156526331  G   0.7700  0.0099  0.0016  7.91x10-10   \n",
       "rs1846190           6:32583813  A   0.3000 -0.0130  0.0018  2.66x10-14   \n",
       "rs187370608         6:40942196  G   0.9970 -0.1600  0.0150  1.26x10-25   \n",
       "rs9369716           6:47552180  T   0.2700  0.0130  0.0016  1.70x10-17   \n",
       "rs5011436           7:12268758  C   0.4100 -0.0081  0.0014   2.70x10-9   \n",
       "rs7384878           7:99932049  T   0.6900  0.0120  0.0015  9.41x10-16   \n",
       "rs3935067          7:143104331  G   0.6200 -0.0091  0.0014  4.69x10-11   \n",
       "rs1532278           8:27466315  T   0.3900 -0.0130  0.0014  1.57x10-22   \n",
       "rs61732533         8:145108151  G   0.9500 -0.0180  0.0031   3.14x10-9   \n",
       "rs7912495          10:11718713  G   0.4600  0.0100  0.0013  7.68x10-15   \n",
       "rs7902657          10:61738152  T   0.5400  0.0074  0.0013   3.68x10-8   \n",
       "rs3740688          11:47380340  T   0.5400  0.0077  0.0013   8.78x10-9   \n",
       "rs1582763          11:60021948  G   0.6200  0.0160  0.0014  3.40x10-33   \n",
       "rs561655           11:85800279  G   0.3500 -0.0150  0.0014  1.24x10-26   \n",
       "rs11218343        11:121435587  T   0.9600  0.0270  0.0036  1.33x10-13   \n",
       "rs7146179          14:53298853  G   0.8900 -0.0140  0.0022  6.99x10-11   \n",
       "rs12590654         14:92938855  G   0.6700  0.0120  0.0014  6.63x10-17   \n",
       "rs602602           15:59057023  T   0.7000  0.0110  0.0015  6.22x10-15   \n",
       "rs117618017        15:63569902  T   0.1300  0.0150  0.0022  7.00x10-12   \n",
       "rs7209200           17:4969940  T   0.3300  0.0078  0.0014   3.18x10-8   \n",
       "rs708382           17:42442344  T   0.6100 -0.0082  0.0014   1.98x10-9   \n",
       "rs28394864         17:47450775  G   0.5400 -0.0085  0.0014  4.90x10-10   \n",
       "rs2632516          17:56409089  G   0.5400  0.0084  0.0014  7.46x10-10   \n",
       "rs6504163          17:61545779  T   0.6100  0.0085  0.0014   1.23x10-9   \n",
       "rs2452170          19:49213504  G   0.4700 -0.0077  0.0014   1.72x10-8   \n",
       "rs1354106          19:51737991  G   0.3700 -0.0110  0.0017  2.21x10-10   \n",
       "rs1761461          19:54825174  C   0.4900  0.0081  0.0013   1.56x10-9   \n",
       "rs6069737          20:54995699  T   0.0830 -0.0200  0.0025  6.73x10-16   \n",
       "rs2154482          21:27520931  T   0.4400 -0.0083  0.0013  7.66x10-10   \n",
       "\n",
       "                    N        Gene  \n",
       "Lead variant                       \n",
       "rs679515       762176         CR1  \n",
       "rs115186657    727537        FHL2  \n",
       "rs4663105     1078540        BIN1  \n",
       "rs7597763      819541      INPPD5  \n",
       "rs4504245     1080458        CLNK  \n",
       "rs871269      1089904       TNIP1  \n",
       "rs6891966     1089230      HAVCR2  \n",
       "rs1846190      754040    HLA-DRB1  \n",
       "rs187370608    791668       TREM2  \n",
       "rs9369716     1052285       CD2AP  \n",
       "rs5011436     1123678    TMEM106B  \n",
       "rs7384878     1084138      ZCWPW1  \n",
       "rs3935067     1117025       EPHA1  \n",
       "rs1532278     1126563         CLU  \n",
       "rs61732533    1122653     SHARPIN  \n",
       "rs7912495     1120367      ECHDC3  \n",
       "rs7902657     1126388       CCDC6  \n",
       "rs3740688     1123185        MADD  \n",
       "rs1582763     1125804      MS4A6A  \n",
       "rs561655      1126563      PICALM  \n",
       "rs11218343    1125100       SORL1  \n",
       "rs7146179     1089904      FERMT2  \n",
       "rs12590654    1116967     SLC24A4  \n",
       "rs602602      1124268      ADAM10  \n",
       "rs117618017    889854       APH1B  \n",
       "rs7209200     1125637       CHRNE  \n",
       "rs708382      1125622         GRN  \n",
       "rs28394864    1084218        ABI3  \n",
       "rs2632516     1082451  AC004687.2  \n",
       "rs6504163     1083145         ACE  \n",
       "rs2452170     1088626        NTN5  \n",
       "rs1354106      716038        CD33  \n",
       "rs1761461     1116336     KIR3DL2  \n",
       "rs6069737     1087703       CASS4  \n",
       "rs2154482     1124606         APP  "
      ]
     },
     "execution_count": 67,
     "metadata": {},
     "output_type": "execute_result"
    }
   ],
   "source": [
    "# check overlap in pos\n",
    "overlap_variants = snps_meta[snps_meta.index.isin(weights.index)].index\n",
    "print(len(overlap_variants), \"variants overlap with weights, out of\", len(snps_meta), \"total variants in metadata and\", len(weights), \"total variants in weights.\")\n",
    "\n",
    "overlap = snps_meta[snps_meta.index.isin(overlap_variants)].copy()\n",
    "\n",
    "weights_overlap = weights[weights.index.isin(overlap_variants)]\n",
    "weights_overlap"
   ]
  },
  {
   "cell_type": "code",
   "execution_count": 68,
   "id": "db7f86c3",
   "metadata": {},
   "outputs": [],
   "source": [
    "# and get the weights for these SNPs\n",
    "overlap[\"weights\"] = weights_overlap.loc[overlap_variants, \"BETA\"].values\n",
    "overlap[\"GWAS A1\"] = weights_overlap.loc[overlap_variants, \"A1\"].values\n",
    "overlap[\"Gene\"] = weights_overlap.loc[overlap_variants, \"Gene\"].values"
   ]
  },
  {
   "cell_type": "code",
   "execution_count": 69,
   "id": "fc706695",
   "metadata": {},
   "outputs": [],
   "source": [
    "snps_overlap = snps.loc[overlap.index].copy()"
   ]
  },
  {
   "cell_type": "code",
   "execution_count": 70,
   "id": "1bd07e49",
   "metadata": {},
   "outputs": [],
   "source": [
    "# if A1 doesn't match COUNTED in overlap, we need to flip the corresponding dosages in snps_overlap (2 - dosage)\n",
    "for i, row in overlap.iterrows():\n",
    "    if row[\"GWAS A1\"] != row[\"COUNTED\"]:\n",
    "        snps_overlap.loc[i] = 2 - snps_overlap.loc[i]"
   ]
  },
  {
   "cell_type": "code",
   "execution_count": 71,
   "id": "488bf669",
   "metadata": {},
   "outputs": [
    {
     "data": {
      "application/vnd.microsoft.datawrangler.viewer.v0+json": {
       "columns": [
        {
         "name": "index",
         "rawType": "object",
         "type": "string"
        },
        {
         "name": "CHR",
         "rawType": "int64",
         "type": "integer"
        },
        {
         "name": "SNP",
         "rawType": "object",
         "type": "string"
        },
        {
         "name": "X.C.M",
         "rawType": "int64",
         "type": "integer"
        },
        {
         "name": "POS",
         "rawType": "int64",
         "type": "integer"
        },
        {
         "name": "COUNTED",
         "rawType": "object",
         "type": "string"
        },
        {
         "name": "ALT",
         "rawType": "object",
         "type": "string"
        },
        {
         "name": "weights",
         "rawType": "float64",
         "type": "float"
        },
        {
         "name": "GWAS A1",
         "rawType": "object",
         "type": "string"
        },
        {
         "name": "Gene",
         "rawType": "object",
         "type": "string"
        }
       ],
       "ref": "8031c5a6-d73f-42f8-a70e-70b3497ff826",
       "rows": [
        [
         "rs115186657",
         "2",
         "chr2:105618971:A:C",
         "0",
         "105618971",
         "A",
         "C",
         "0.08",
         "C",
         "FHL2"
        ],
        [
         "rs11218343",
         "11",
         "chr11:121564878:T:C",
         "0",
         "121564878",
         "T",
         "C",
         "0.027",
         "T",
         "SORL1"
        ],
        [
         "rs4663105",
         "2",
         "chr2:127133851:A:C",
         "0",
         "127133851",
         "A",
         "C",
         "0.022",
         "C",
         "BIN1"
        ],
        [
         "rs1582763",
         "11",
         "chr11:60254475:G:A",
         "0",
         "60254475",
         "G",
         "A",
         "0.016",
         "G",
         "MS4A6A"
        ],
        [
         "rs117618017",
         "15",
         "chr15:63277703:C:T",
         "0",
         "63277703",
         "C",
         "T",
         "0.015",
         "T",
         "APH1B"
        ],
        [
         "rs9369716",
         "6",
         "chr6:47584444:A:T",
         "0",
         "47584444",
         "A",
         "T",
         "0.013",
         "T",
         "CD2AP"
        ],
        [
         "rs7384878",
         "7",
         "chr7:100334426:C:T",
         "0",
         "100334426",
         "C",
         "T",
         "0.012",
         "T",
         "ZCWPW1"
        ],
        [
         "rs12590654",
         "14",
         "chr14:92472511:G:A",
         "0",
         "92472511",
         "G",
         "A",
         "0.012",
         "G",
         "SLC24A4"
        ],
        [
         "rs602602",
         "15",
         "chr15:58764824:T:A",
         "0",
         "58764824",
         "T",
         "A",
         "0.011",
         "T",
         "ADAM10"
        ],
        [
         "rs7912495",
         "10",
         "chr10:11676714:A:G",
         "0",
         "11676714",
         "A",
         "G",
         "0.01",
         "G",
         "ECHDC3"
        ],
        [
         "rs6891966",
         "5",
         "chr5:157099320:A:G",
         "0",
         "157099320",
         "A",
         "G",
         "0.0099",
         "G",
         "HAVCR2"
        ],
        [
         "rs7597763",
         "2",
         "chr2:233173931:A:C",
         "0",
         "233173931",
         "A",
         "C",
         "0.0092",
         "C",
         "INPPD5"
        ],
        [
         "rs6504163",
         "17",
         "chr17:63468418:C:T",
         "0",
         "63468418",
         "C",
         "T",
         "0.0085",
         "T",
         "ACE"
        ],
        [
         "rs2632516",
         "17",
         "chr17:58331728:G:C",
         "0",
         "58331728",
         "G",
         "C",
         "0.0084",
         "G",
         "AC004687.2"
        ],
        [
         "rs1761461",
         "19",
         "chr19:54313903:C:A",
         "0",
         "54313903",
         "C",
         "A",
         "0.0081",
         "C",
         "KIR3DL2"
        ],
        [
         "rs7209200",
         "17",
         "chr17:5066645:C:T",
         "0",
         "5066645",
         "C",
         "T",
         "0.0078",
         "T",
         "CHRNE"
        ],
        [
         "rs3740688",
         "11",
         "chr11:47358789:G:T",
         "0",
         "47358789",
         "G",
         "T",
         "0.0077",
         "T",
         "MADD"
        ],
        [
         "rs7902657",
         "10",
         "chr10:59978394:G:T",
         "0",
         "59978394",
         "G",
         "T",
         "0.0074",
         "T",
         "CCDC6"
        ],
        [
         "rs2452170",
         "19",
         "chr19:48710247:G:A",
         "0",
         "48710247",
         "G",
         "A",
         "-0.0077",
         "G",
         "NTN5"
        ],
        [
         "rs5011436",
         "7",
         "chr7:12229132:A:C",
         "0",
         "12229132",
         "A",
         "C",
         "-0.0081",
         "C",
         "TMEM106B"
        ],
        [
         "rs708382",
         "17",
         "chr17:44364976:T:C",
         "0",
         "44364976",
         "T",
         "C",
         "-0.0082",
         "T",
         "GRN"
        ],
        [
         "rs2154482",
         "21",
         "chr21:26148613:G:T",
         "0",
         "26148613",
         "G",
         "T",
         "-0.0083",
         "T",
         "APP"
        ],
        [
         "rs28394864",
         "17",
         "chr17:49373413:G:A",
         "0",
         "49373413",
         "G",
         "A",
         "-0.0085",
         "G",
         "ABI3"
        ],
        [
         "rs871269",
         "5",
         "chr5:151052827:C:T",
         "0",
         "151052827",
         "C",
         "T",
         "-0.0088",
         "T",
         "TNIP1"
        ],
        [
         "rs3935067",
         "7",
         "chr7:143407238:G:C",
         "0",
         "143407238",
         "G",
         "C",
         "-0.0091",
         "G",
         "EPHA1"
        ],
        [
         "rs1354106",
         "19",
         "chr19:51234736:T:G",
         "0",
         "51234736",
         "T",
         "G",
         "-0.011",
         "G",
         "CD33"
        ],
        [
         "rs4504245",
         "4",
         "chr4:11013198:A:G",
         "0",
         "11013198",
         "A",
         "G",
         "-0.012",
         "G",
         "CLNK"
        ],
        [
         "rs1532278",
         "8",
         "chr8:27608798:T:C",
         "0",
         "27608798",
         "T",
         "C",
         "-0.013",
         "T",
         "CLU"
        ],
        [
         "rs1846190",
         "6",
         "chr6:32616036:G:A",
         "0",
         "32616036",
         "G",
         "A",
         "-0.013",
         "A",
         "HLA-DRB1"
        ],
        [
         "rs7146179",
         "14",
         "chr14:52832135:A:G",
         "0",
         "52832135",
         "A",
         "G",
         "-0.014",
         "G",
         "FERMT2"
        ],
        [
         "rs561655",
         "11",
         "chr11:86089237:G:A",
         "0",
         "86089237",
         "G",
         "A",
         "-0.015",
         "G",
         "PICALM"
        ],
        [
         "rs61732533",
         "8",
         "chr8:144053248:G:A",
         "0",
         "144053248",
         "G",
         "A",
         "-0.018",
         "G",
         "SHARPIN"
        ],
        [
         "rs6069737",
         "20",
         "chr20:56420643:C:T",
         "0",
         "56420643",
         "C",
         "T",
         "-0.02",
         "T",
         "CASS4"
        ],
        [
         "rs679515",
         "1",
         "chr1:207577223:T:C",
         "0",
         "207577223",
         "T",
         "C",
         "-0.022",
         "C",
         "CR1"
        ],
        [
         "rs187370608",
         "6",
         "chr6:40974457:G:A",
         "0",
         "40974457",
         "G",
         "A",
         "-0.16",
         "G",
         "TREM2"
        ]
       ],
       "shape": {
        "columns": 9,
        "rows": 35
       }
      },
      "text/html": [
       "<div>\n",
       "<style scoped>\n",
       "    .dataframe tbody tr th:only-of-type {\n",
       "        vertical-align: middle;\n",
       "    }\n",
       "\n",
       "    .dataframe tbody tr th {\n",
       "        vertical-align: top;\n",
       "    }\n",
       "\n",
       "    .dataframe thead th {\n",
       "        text-align: right;\n",
       "    }\n",
       "</style>\n",
       "<table border=\"1\" class=\"dataframe\">\n",
       "  <thead>\n",
       "    <tr style=\"text-align: right;\">\n",
       "      <th></th>\n",
       "      <th>CHR</th>\n",
       "      <th>SNP</th>\n",
       "      <th>X.C.M</th>\n",
       "      <th>POS</th>\n",
       "      <th>COUNTED</th>\n",
       "      <th>ALT</th>\n",
       "      <th>weights</th>\n",
       "      <th>GWAS A1</th>\n",
       "      <th>Gene</th>\n",
       "    </tr>\n",
       "  </thead>\n",
       "  <tbody>\n",
       "    <tr>\n",
       "      <th>rs115186657</th>\n",
       "      <td>2</td>\n",
       "      <td>chr2:105618971:A:C</td>\n",
       "      <td>0</td>\n",
       "      <td>105618971</td>\n",
       "      <td>A</td>\n",
       "      <td>C</td>\n",
       "      <td>0.0800</td>\n",
       "      <td>C</td>\n",
       "      <td>FHL2</td>\n",
       "    </tr>\n",
       "    <tr>\n",
       "      <th>rs11218343</th>\n",
       "      <td>11</td>\n",
       "      <td>chr11:121564878:T:C</td>\n",
       "      <td>0</td>\n",
       "      <td>121564878</td>\n",
       "      <td>T</td>\n",
       "      <td>C</td>\n",
       "      <td>0.0270</td>\n",
       "      <td>T</td>\n",
       "      <td>SORL1</td>\n",
       "    </tr>\n",
       "    <tr>\n",
       "      <th>rs4663105</th>\n",
       "      <td>2</td>\n",
       "      <td>chr2:127133851:A:C</td>\n",
       "      <td>0</td>\n",
       "      <td>127133851</td>\n",
       "      <td>A</td>\n",
       "      <td>C</td>\n",
       "      <td>0.0220</td>\n",
       "      <td>C</td>\n",
       "      <td>BIN1</td>\n",
       "    </tr>\n",
       "    <tr>\n",
       "      <th>rs1582763</th>\n",
       "      <td>11</td>\n",
       "      <td>chr11:60254475:G:A</td>\n",
       "      <td>0</td>\n",
       "      <td>60254475</td>\n",
       "      <td>G</td>\n",
       "      <td>A</td>\n",
       "      <td>0.0160</td>\n",
       "      <td>G</td>\n",
       "      <td>MS4A6A</td>\n",
       "    </tr>\n",
       "    <tr>\n",
       "      <th>rs117618017</th>\n",
       "      <td>15</td>\n",
       "      <td>chr15:63277703:C:T</td>\n",
       "      <td>0</td>\n",
       "      <td>63277703</td>\n",
       "      <td>C</td>\n",
       "      <td>T</td>\n",
       "      <td>0.0150</td>\n",
       "      <td>T</td>\n",
       "      <td>APH1B</td>\n",
       "    </tr>\n",
       "    <tr>\n",
       "      <th>rs9369716</th>\n",
       "      <td>6</td>\n",
       "      <td>chr6:47584444:A:T</td>\n",
       "      <td>0</td>\n",
       "      <td>47584444</td>\n",
       "      <td>A</td>\n",
       "      <td>T</td>\n",
       "      <td>0.0130</td>\n",
       "      <td>T</td>\n",
       "      <td>CD2AP</td>\n",
       "    </tr>\n",
       "    <tr>\n",
       "      <th>rs7384878</th>\n",
       "      <td>7</td>\n",
       "      <td>chr7:100334426:C:T</td>\n",
       "      <td>0</td>\n",
       "      <td>100334426</td>\n",
       "      <td>C</td>\n",
       "      <td>T</td>\n",
       "      <td>0.0120</td>\n",
       "      <td>T</td>\n",
       "      <td>ZCWPW1</td>\n",
       "    </tr>\n",
       "    <tr>\n",
       "      <th>rs12590654</th>\n",
       "      <td>14</td>\n",
       "      <td>chr14:92472511:G:A</td>\n",
       "      <td>0</td>\n",
       "      <td>92472511</td>\n",
       "      <td>G</td>\n",
       "      <td>A</td>\n",
       "      <td>0.0120</td>\n",
       "      <td>G</td>\n",
       "      <td>SLC24A4</td>\n",
       "    </tr>\n",
       "    <tr>\n",
       "      <th>rs602602</th>\n",
       "      <td>15</td>\n",
       "      <td>chr15:58764824:T:A</td>\n",
       "      <td>0</td>\n",
       "      <td>58764824</td>\n",
       "      <td>T</td>\n",
       "      <td>A</td>\n",
       "      <td>0.0110</td>\n",
       "      <td>T</td>\n",
       "      <td>ADAM10</td>\n",
       "    </tr>\n",
       "    <tr>\n",
       "      <th>rs7912495</th>\n",
       "      <td>10</td>\n",
       "      <td>chr10:11676714:A:G</td>\n",
       "      <td>0</td>\n",
       "      <td>11676714</td>\n",
       "      <td>A</td>\n",
       "      <td>G</td>\n",
       "      <td>0.0100</td>\n",
       "      <td>G</td>\n",
       "      <td>ECHDC3</td>\n",
       "    </tr>\n",
       "    <tr>\n",
       "      <th>rs6891966</th>\n",
       "      <td>5</td>\n",
       "      <td>chr5:157099320:A:G</td>\n",
       "      <td>0</td>\n",
       "      <td>157099320</td>\n",
       "      <td>A</td>\n",
       "      <td>G</td>\n",
       "      <td>0.0099</td>\n",
       "      <td>G</td>\n",
       "      <td>HAVCR2</td>\n",
       "    </tr>\n",
       "    <tr>\n",
       "      <th>rs7597763</th>\n",
       "      <td>2</td>\n",
       "      <td>chr2:233173931:A:C</td>\n",
       "      <td>0</td>\n",
       "      <td>233173931</td>\n",
       "      <td>A</td>\n",
       "      <td>C</td>\n",
       "      <td>0.0092</td>\n",
       "      <td>C</td>\n",
       "      <td>INPPD5</td>\n",
       "    </tr>\n",
       "    <tr>\n",
       "      <th>rs6504163</th>\n",
       "      <td>17</td>\n",
       "      <td>chr17:63468418:C:T</td>\n",
       "      <td>0</td>\n",
       "      <td>63468418</td>\n",
       "      <td>C</td>\n",
       "      <td>T</td>\n",
       "      <td>0.0085</td>\n",
       "      <td>T</td>\n",
       "      <td>ACE</td>\n",
       "    </tr>\n",
       "    <tr>\n",
       "      <th>rs2632516</th>\n",
       "      <td>17</td>\n",
       "      <td>chr17:58331728:G:C</td>\n",
       "      <td>0</td>\n",
       "      <td>58331728</td>\n",
       "      <td>G</td>\n",
       "      <td>C</td>\n",
       "      <td>0.0084</td>\n",
       "      <td>G</td>\n",
       "      <td>AC004687.2</td>\n",
       "    </tr>\n",
       "    <tr>\n",
       "      <th>rs1761461</th>\n",
       "      <td>19</td>\n",
       "      <td>chr19:54313903:C:A</td>\n",
       "      <td>0</td>\n",
       "      <td>54313903</td>\n",
       "      <td>C</td>\n",
       "      <td>A</td>\n",
       "      <td>0.0081</td>\n",
       "      <td>C</td>\n",
       "      <td>KIR3DL2</td>\n",
       "    </tr>\n",
       "    <tr>\n",
       "      <th>rs7209200</th>\n",
       "      <td>17</td>\n",
       "      <td>chr17:5066645:C:T</td>\n",
       "      <td>0</td>\n",
       "      <td>5066645</td>\n",
       "      <td>C</td>\n",
       "      <td>T</td>\n",
       "      <td>0.0078</td>\n",
       "      <td>T</td>\n",
       "      <td>CHRNE</td>\n",
       "    </tr>\n",
       "    <tr>\n",
       "      <th>rs3740688</th>\n",
       "      <td>11</td>\n",
       "      <td>chr11:47358789:G:T</td>\n",
       "      <td>0</td>\n",
       "      <td>47358789</td>\n",
       "      <td>G</td>\n",
       "      <td>T</td>\n",
       "      <td>0.0077</td>\n",
       "      <td>T</td>\n",
       "      <td>MADD</td>\n",
       "    </tr>\n",
       "    <tr>\n",
       "      <th>rs7902657</th>\n",
       "      <td>10</td>\n",
       "      <td>chr10:59978394:G:T</td>\n",
       "      <td>0</td>\n",
       "      <td>59978394</td>\n",
       "      <td>G</td>\n",
       "      <td>T</td>\n",
       "      <td>0.0074</td>\n",
       "      <td>T</td>\n",
       "      <td>CCDC6</td>\n",
       "    </tr>\n",
       "    <tr>\n",
       "      <th>rs2452170</th>\n",
       "      <td>19</td>\n",
       "      <td>chr19:48710247:G:A</td>\n",
       "      <td>0</td>\n",
       "      <td>48710247</td>\n",
       "      <td>G</td>\n",
       "      <td>A</td>\n",
       "      <td>-0.0077</td>\n",
       "      <td>G</td>\n",
       "      <td>NTN5</td>\n",
       "    </tr>\n",
       "    <tr>\n",
       "      <th>rs5011436</th>\n",
       "      <td>7</td>\n",
       "      <td>chr7:12229132:A:C</td>\n",
       "      <td>0</td>\n",
       "      <td>12229132</td>\n",
       "      <td>A</td>\n",
       "      <td>C</td>\n",
       "      <td>-0.0081</td>\n",
       "      <td>C</td>\n",
       "      <td>TMEM106B</td>\n",
       "    </tr>\n",
       "    <tr>\n",
       "      <th>rs708382</th>\n",
       "      <td>17</td>\n",
       "      <td>chr17:44364976:T:C</td>\n",
       "      <td>0</td>\n",
       "      <td>44364976</td>\n",
       "      <td>T</td>\n",
       "      <td>C</td>\n",
       "      <td>-0.0082</td>\n",
       "      <td>T</td>\n",
       "      <td>GRN</td>\n",
       "    </tr>\n",
       "    <tr>\n",
       "      <th>rs2154482</th>\n",
       "      <td>21</td>\n",
       "      <td>chr21:26148613:G:T</td>\n",
       "      <td>0</td>\n",
       "      <td>26148613</td>\n",
       "      <td>G</td>\n",
       "      <td>T</td>\n",
       "      <td>-0.0083</td>\n",
       "      <td>T</td>\n",
       "      <td>APP</td>\n",
       "    </tr>\n",
       "    <tr>\n",
       "      <th>rs28394864</th>\n",
       "      <td>17</td>\n",
       "      <td>chr17:49373413:G:A</td>\n",
       "      <td>0</td>\n",
       "      <td>49373413</td>\n",
       "      <td>G</td>\n",
       "      <td>A</td>\n",
       "      <td>-0.0085</td>\n",
       "      <td>G</td>\n",
       "      <td>ABI3</td>\n",
       "    </tr>\n",
       "    <tr>\n",
       "      <th>rs871269</th>\n",
       "      <td>5</td>\n",
       "      <td>chr5:151052827:C:T</td>\n",
       "      <td>0</td>\n",
       "      <td>151052827</td>\n",
       "      <td>C</td>\n",
       "      <td>T</td>\n",
       "      <td>-0.0088</td>\n",
       "      <td>T</td>\n",
       "      <td>TNIP1</td>\n",
       "    </tr>\n",
       "    <tr>\n",
       "      <th>rs3935067</th>\n",
       "      <td>7</td>\n",
       "      <td>chr7:143407238:G:C</td>\n",
       "      <td>0</td>\n",
       "      <td>143407238</td>\n",
       "      <td>G</td>\n",
       "      <td>C</td>\n",
       "      <td>-0.0091</td>\n",
       "      <td>G</td>\n",
       "      <td>EPHA1</td>\n",
       "    </tr>\n",
       "    <tr>\n",
       "      <th>rs1354106</th>\n",
       "      <td>19</td>\n",
       "      <td>chr19:51234736:T:G</td>\n",
       "      <td>0</td>\n",
       "      <td>51234736</td>\n",
       "      <td>T</td>\n",
       "      <td>G</td>\n",
       "      <td>-0.0110</td>\n",
       "      <td>G</td>\n",
       "      <td>CD33</td>\n",
       "    </tr>\n",
       "    <tr>\n",
       "      <th>rs4504245</th>\n",
       "      <td>4</td>\n",
       "      <td>chr4:11013198:A:G</td>\n",
       "      <td>0</td>\n",
       "      <td>11013198</td>\n",
       "      <td>A</td>\n",
       "      <td>G</td>\n",
       "      <td>-0.0120</td>\n",
       "      <td>G</td>\n",
       "      <td>CLNK</td>\n",
       "    </tr>\n",
       "    <tr>\n",
       "      <th>rs1532278</th>\n",
       "      <td>8</td>\n",
       "      <td>chr8:27608798:T:C</td>\n",
       "      <td>0</td>\n",
       "      <td>27608798</td>\n",
       "      <td>T</td>\n",
       "      <td>C</td>\n",
       "      <td>-0.0130</td>\n",
       "      <td>T</td>\n",
       "      <td>CLU</td>\n",
       "    </tr>\n",
       "    <tr>\n",
       "      <th>rs1846190</th>\n",
       "      <td>6</td>\n",
       "      <td>chr6:32616036:G:A</td>\n",
       "      <td>0</td>\n",
       "      <td>32616036</td>\n",
       "      <td>G</td>\n",
       "      <td>A</td>\n",
       "      <td>-0.0130</td>\n",
       "      <td>A</td>\n",
       "      <td>HLA-DRB1</td>\n",
       "    </tr>\n",
       "    <tr>\n",
       "      <th>rs7146179</th>\n",
       "      <td>14</td>\n",
       "      <td>chr14:52832135:A:G</td>\n",
       "      <td>0</td>\n",
       "      <td>52832135</td>\n",
       "      <td>A</td>\n",
       "      <td>G</td>\n",
       "      <td>-0.0140</td>\n",
       "      <td>G</td>\n",
       "      <td>FERMT2</td>\n",
       "    </tr>\n",
       "    <tr>\n",
       "      <th>rs561655</th>\n",
       "      <td>11</td>\n",
       "      <td>chr11:86089237:G:A</td>\n",
       "      <td>0</td>\n",
       "      <td>86089237</td>\n",
       "      <td>G</td>\n",
       "      <td>A</td>\n",
       "      <td>-0.0150</td>\n",
       "      <td>G</td>\n",
       "      <td>PICALM</td>\n",
       "    </tr>\n",
       "    <tr>\n",
       "      <th>rs61732533</th>\n",
       "      <td>8</td>\n",
       "      <td>chr8:144053248:G:A</td>\n",
       "      <td>0</td>\n",
       "      <td>144053248</td>\n",
       "      <td>G</td>\n",
       "      <td>A</td>\n",
       "      <td>-0.0180</td>\n",
       "      <td>G</td>\n",
       "      <td>SHARPIN</td>\n",
       "    </tr>\n",
       "    <tr>\n",
       "      <th>rs6069737</th>\n",
       "      <td>20</td>\n",
       "      <td>chr20:56420643:C:T</td>\n",
       "      <td>0</td>\n",
       "      <td>56420643</td>\n",
       "      <td>C</td>\n",
       "      <td>T</td>\n",
       "      <td>-0.0200</td>\n",
       "      <td>T</td>\n",
       "      <td>CASS4</td>\n",
       "    </tr>\n",
       "    <tr>\n",
       "      <th>rs679515</th>\n",
       "      <td>1</td>\n",
       "      <td>chr1:207577223:T:C</td>\n",
       "      <td>0</td>\n",
       "      <td>207577223</td>\n",
       "      <td>T</td>\n",
       "      <td>C</td>\n",
       "      <td>-0.0220</td>\n",
       "      <td>C</td>\n",
       "      <td>CR1</td>\n",
       "    </tr>\n",
       "    <tr>\n",
       "      <th>rs187370608</th>\n",
       "      <td>6</td>\n",
       "      <td>chr6:40974457:G:A</td>\n",
       "      <td>0</td>\n",
       "      <td>40974457</td>\n",
       "      <td>G</td>\n",
       "      <td>A</td>\n",
       "      <td>-0.1600</td>\n",
       "      <td>G</td>\n",
       "      <td>TREM2</td>\n",
       "    </tr>\n",
       "  </tbody>\n",
       "</table>\n",
       "</div>"
      ],
      "text/plain": [
       "             CHR                  SNP  X.C.M        POS COUNTED ALT  weights  \\\n",
       "rs115186657    2   chr2:105618971:A:C      0  105618971       A   C   0.0800   \n",
       "rs11218343    11  chr11:121564878:T:C      0  121564878       T   C   0.0270   \n",
       "rs4663105      2   chr2:127133851:A:C      0  127133851       A   C   0.0220   \n",
       "rs1582763     11   chr11:60254475:G:A      0   60254475       G   A   0.0160   \n",
       "rs117618017   15   chr15:63277703:C:T      0   63277703       C   T   0.0150   \n",
       "rs9369716      6    chr6:47584444:A:T      0   47584444       A   T   0.0130   \n",
       "rs7384878      7   chr7:100334426:C:T      0  100334426       C   T   0.0120   \n",
       "rs12590654    14   chr14:92472511:G:A      0   92472511       G   A   0.0120   \n",
       "rs602602      15   chr15:58764824:T:A      0   58764824       T   A   0.0110   \n",
       "rs7912495     10   chr10:11676714:A:G      0   11676714       A   G   0.0100   \n",
       "rs6891966      5   chr5:157099320:A:G      0  157099320       A   G   0.0099   \n",
       "rs7597763      2   chr2:233173931:A:C      0  233173931       A   C   0.0092   \n",
       "rs6504163     17   chr17:63468418:C:T      0   63468418       C   T   0.0085   \n",
       "rs2632516     17   chr17:58331728:G:C      0   58331728       G   C   0.0084   \n",
       "rs1761461     19   chr19:54313903:C:A      0   54313903       C   A   0.0081   \n",
       "rs7209200     17    chr17:5066645:C:T      0    5066645       C   T   0.0078   \n",
       "rs3740688     11   chr11:47358789:G:T      0   47358789       G   T   0.0077   \n",
       "rs7902657     10   chr10:59978394:G:T      0   59978394       G   T   0.0074   \n",
       "rs2452170     19   chr19:48710247:G:A      0   48710247       G   A  -0.0077   \n",
       "rs5011436      7    chr7:12229132:A:C      0   12229132       A   C  -0.0081   \n",
       "rs708382      17   chr17:44364976:T:C      0   44364976       T   C  -0.0082   \n",
       "rs2154482     21   chr21:26148613:G:T      0   26148613       G   T  -0.0083   \n",
       "rs28394864    17   chr17:49373413:G:A      0   49373413       G   A  -0.0085   \n",
       "rs871269       5   chr5:151052827:C:T      0  151052827       C   T  -0.0088   \n",
       "rs3935067      7   chr7:143407238:G:C      0  143407238       G   C  -0.0091   \n",
       "rs1354106     19   chr19:51234736:T:G      0   51234736       T   G  -0.0110   \n",
       "rs4504245      4    chr4:11013198:A:G      0   11013198       A   G  -0.0120   \n",
       "rs1532278      8    chr8:27608798:T:C      0   27608798       T   C  -0.0130   \n",
       "rs1846190      6    chr6:32616036:G:A      0   32616036       G   A  -0.0130   \n",
       "rs7146179     14   chr14:52832135:A:G      0   52832135       A   G  -0.0140   \n",
       "rs561655      11   chr11:86089237:G:A      0   86089237       G   A  -0.0150   \n",
       "rs61732533     8   chr8:144053248:G:A      0  144053248       G   A  -0.0180   \n",
       "rs6069737     20   chr20:56420643:C:T      0   56420643       C   T  -0.0200   \n",
       "rs679515       1   chr1:207577223:T:C      0  207577223       T   C  -0.0220   \n",
       "rs187370608    6    chr6:40974457:G:A      0   40974457       G   A  -0.1600   \n",
       "\n",
       "            GWAS A1        Gene  \n",
       "rs115186657       C        FHL2  \n",
       "rs11218343        T       SORL1  \n",
       "rs4663105         C        BIN1  \n",
       "rs1582763         G      MS4A6A  \n",
       "rs117618017       T       APH1B  \n",
       "rs9369716         T       CD2AP  \n",
       "rs7384878         T      ZCWPW1  \n",
       "rs12590654        G     SLC24A4  \n",
       "rs602602          T      ADAM10  \n",
       "rs7912495         G      ECHDC3  \n",
       "rs6891966         G      HAVCR2  \n",
       "rs7597763         C      INPPD5  \n",
       "rs6504163         T         ACE  \n",
       "rs2632516         G  AC004687.2  \n",
       "rs1761461         C     KIR3DL2  \n",
       "rs7209200         T       CHRNE  \n",
       "rs3740688         T        MADD  \n",
       "rs7902657         T       CCDC6  \n",
       "rs2452170         G        NTN5  \n",
       "rs5011436         C    TMEM106B  \n",
       "rs708382          T         GRN  \n",
       "rs2154482         T         APP  \n",
       "rs28394864        G        ABI3  \n",
       "rs871269          T       TNIP1  \n",
       "rs3935067         G       EPHA1  \n",
       "rs1354106         G        CD33  \n",
       "rs4504245         G        CLNK  \n",
       "rs1532278         T         CLU  \n",
       "rs1846190         A    HLA-DRB1  \n",
       "rs7146179         G      FERMT2  \n",
       "rs561655          G      PICALM  \n",
       "rs61732533        G     SHARPIN  \n",
       "rs6069737         T       CASS4  \n",
       "rs679515          C         CR1  \n",
       "rs187370608       G       TREM2  "
      ]
     },
     "execution_count": 71,
     "metadata": {},
     "output_type": "execute_result"
    }
   ],
   "source": [
    "overlap.sort_values(by=\"weights\", ascending=False)"
   ]
  },
  {
   "cell_type": "code",
   "execution_count": 72,
   "id": "cd6e1e4b",
   "metadata": {},
   "outputs": [
    {
     "data": {
      "text/plain": [
       "Text(0, 0.5, 'Frequency')"
      ]
     },
     "execution_count": 72,
     "metadata": {},
     "output_type": "execute_result"
    },
    {
     "data": {
      "image/png": "[encoded data removed]",
      "text/plain": [
       "<Figure size 640x480 with 1 Axes>"
      ]
     },
     "metadata": {},
     "output_type": "display_data"
    }
   ],
   "source": [
    "plt.hist((overlap[\"weights\"]), bins=50)\n",
    "plt.xlabel(\"signed weights\")\n",
    "plt.ylabel(\"Frequency\")"
   ]
  },
  {
   "cell_type": "code",
   "execution_count": 73,
   "id": "ab7c24b4",
   "metadata": {},
   "outputs": [
    {
     "data": {
      "application/vnd.microsoft.datawrangler.viewer.v0+json": {
       "columns": [
        {
         "name": "index",
         "rawType": "object",
         "type": "string"
        },
        {
         "name": "PRS",
         "rawType": "float64",
         "type": "float"
        }
       ],
       "ref": "87367e3a-2c74-4888-b5e0-2f931b207492",
       "rows": [
        [
         "H20.33.045",
         "-0.306817"
        ],
        [
         "H20.33.044",
         "-0.2936392"
        ],
        [
         "H21.33.045",
         "-0.3773347"
        ],
        [
         "H20.33.046",
         "-0.2871651"
        ],
        [
         "H20.33.014",
         "-0.3310637"
        ],
        [
         "H21.33.046",
         "-0.27557849999999995"
        ],
        [
         "H21.33.047",
         "-0.26534359999999996"
        ],
        [
         "H20.33.011",
         "-0.3068223"
        ],
        [
         "H21.33.005",
         "-0.3341041"
        ],
        [
         "H21.33.001",
         "-0.3059506000000001"
        ],
        [
         "H20.33.024",
         "-0.26318709999999995"
        ],
        [
         "H21.33.007",
         "-0.3193605000000001"
        ],
        [
         "H20.33.012",
         "-0.3743496"
        ],
        [
         "H20.33.025",
         "-0.3270340000000001"
        ],
        [
         "H20.33.004",
         "-0.28007620000000005"
        ],
        [
         "H20.33.017",
         "-0.31683859999999997"
        ],
        [
         "H20.33.013",
         "-0.3620775"
        ],
        [
         "H20.33.015",
         "-0.38696080000000005"
        ],
        [
         "H20.33.018",
         "-0.2998777999999999"
        ],
        [
         "H20.33.008",
         "-0.31205649999999996"
        ],
        [
         "H20.33.005",
         "-0.3182016"
        ],
        [
         "H20.33.026",
         "-0.3141014999999999"
        ],
        [
         "H20.33.041",
         "-0.2584642000000001"
        ],
        [
         "H20.33.027",
         "-0.30467450000000007"
        ],
        [
         "H21.33.008",
         "-0.2560471"
        ],
        [
         "H20.33.019",
         "-0.31061030000000006"
        ],
        [
         "H20.33.001",
         "-0.23694099999999998"
        ],
        [
         "H20.33.002",
         "-0.29489470000000007"
        ],
        [
         "H20.33.028",
         "-0.2789038"
        ],
        [
         "H21.33.006",
         "-0.3168541000000001"
        ],
        [
         "H20.33.029",
         "-0.3073605"
        ],
        [
         "H20.33.030",
         "-0.3056070999999999"
        ],
        [
         "H20.33.031",
         "-0.26701709999999995"
        ],
        [
         "H20.33.020",
         "-0.2891995"
        ],
        [
         "H20.33.032",
         "-0.2700656"
        ],
        [
         "H20.33.033",
         "-0.3500573999999999"
        ],
        [
         "H20.33.034",
         "-0.28375639999999996"
        ],
        [
         "H20.33.035",
         "-0.3493215"
        ],
        [
         "H20.33.036",
         "-0.30666350000000003"
        ],
        [
         "H20.33.037",
         "-0.27973850000000006"
        ],
        [
         "H20.33.043",
         "-0.29895980000000005"
        ],
        [
         "H20.33.016",
         "-0.25608289999999995"
        ],
        [
         "H21.33.012",
         "-0.33198"
        ],
        [
         "H21.33.011",
         "-0.34313380000000004"
        ],
        [
         "H20.33.038",
         "-0.34496309999999997"
        ],
        [
         "H21.33.010",
         "-0.35379409999999994"
        ],
        [
         "H20.33.039",
         "-0.2537393"
        ],
        [
         "H21.33.009",
         "-0.2205904"
        ],
        [
         "H21.33.017",
         "-0.3209421000000001"
        ],
        [
         "H21.33.016",
         "-0.3378551000000001"
        ]
       ],
       "shape": {
        "columns": 1,
        "rows": 2107
       }
      },
      "text/plain": [
       "H20.33.045   -0.306817\n",
       "H20.33.044   -0.293639\n",
       "H21.33.045   -0.377335\n",
       "H20.33.046   -0.287165\n",
       "H20.33.014   -0.331064\n",
       "                ...   \n",
       "R6808939     -0.404587\n",
       "R7423003     -0.254851\n",
       "R4703595     -0.292433\n",
       "R2213536     -0.336763\n",
       "R3438797     -0.313826\n",
       "Name: PRS, Length: 2107, dtype: float64"
      ]
     },
     "execution_count": 73,
     "metadata": {},
     "output_type": "execute_result"
    }
   ],
   "source": [
    "prss = (np.array(snps_overlap) * overlap[\"weights\"].values.reshape(-1, 1)).sum(axis=0)\n",
    "prss = pd.Series(prss, index=snps_overlap.columns, name=\"PRS\")\n",
    "\n",
    "prss.to_csv(\"data/PRS_Wightman.csv\")\n",
    "\n",
    "prss"
   ]
  },
  {
   "cell_type": "code",
   "execution_count": 74,
   "id": "ce480291",
   "metadata": {},
   "outputs": [
    {
     "data": {
      "application/vnd.microsoft.datawrangler.viewer.v0+json": {
       "columns": [
        {
         "name": "index",
         "rawType": "object",
         "type": "string"
        },
        {
         "name": "PRS",
         "rawType": "float64",
         "type": "float"
        }
       ],
       "ref": "b0c24384-fb1e-47c9-a20c-747062a45cd8",
       "rows": [
        [
         "H20.33.045",
         "-0.1399908210408889"
        ],
        [
         "H20.33.044",
         "-0.2933978146710083"
        ],
        [
         "H21.33.045",
         "-0.6160175268579835"
        ],
        [
         "H20.33.046",
         "-0.012919309394097"
        ],
        [
         "H20.33.014",
         "-0.1569868456924919"
        ],
        [
         "H21.33.046",
         "0.1300500718829102"
        ],
        [
         "H21.33.047",
         "0.2608728371928807"
        ],
        [
         "H20.33.011",
         "-0.4301294587880782"
        ],
        [
         "H21.33.005",
         "-0.330069702150484"
        ],
        [
         "H21.33.001",
         "-0.3430406930802393"
        ],
        [
         "H20.33.024",
         "-0.0423342523561523"
        ],
        [
         "H21.33.007",
         "-0.2925244404458448"
        ],
        [
         "H20.33.012",
         "-0.8370594011786119"
        ],
        [
         "H20.33.025",
         "-0.6764965347531523"
        ],
        [
         "H20.33.004",
         "-0.0897562519541184"
        ],
        [
         "H20.33.017",
         "-0.3478364348213065"
        ],
        [
         "H20.33.013",
         "-0.6665037679894029"
        ],
        [
         "H20.33.015",
         "-1.2573988518802353"
        ],
        [
         "H20.33.018",
         "-0.3049793025631173"
        ],
        [
         "H20.33.008",
         "-0.5590497042096169"
        ],
        [
         "H20.33.005",
         "-0.4463491368515714"
        ],
        [
         "H20.33.026",
         "-0.4676743704142875"
        ],
        [
         "H20.33.041",
         "-0.1835871727539029"
        ],
        [
         "H20.33.027",
         "-0.1066926392659283"
        ],
        [
         "H21.33.008",
         "-0.5765002457257323"
        ],
        [
         "H20.33.019",
         "-0.5191176270287101"
        ],
        [
         "H20.33.001",
         "0.1295148364168191"
        ],
        [
         "H20.33.002",
         "-0.569900145646065"
        ],
        [
         "H20.33.028",
         "-0.06312364984937"
        ],
        [
         "H21.33.006",
         "-0.4051416931013272"
        ],
        [
         "H20.33.029",
         "-0.4743831864008285"
        ],
        [
         "H20.33.030",
         "-0.4523890696493092"
        ],
        [
         "H20.33.031",
         "-0.0079983630995572"
        ],
        [
         "H20.33.020",
         "-0.1837236345868692"
        ],
        [
         "H20.33.032",
         "0.3181108445762914"
        ],
        [
         "H20.33.033",
         "-1.009874894682998"
        ],
        [
         "H20.33.034",
         "-0.461383761524919"
        ],
        [
         "H20.33.035",
         "-0.511337983395702"
        ],
        [
         "H20.33.036",
         "-0.2689128116263278"
        ],
        [
         "H20.33.037",
         "-0.1482751710808511"
        ],
        [
         "H20.33.043",
         "-0.5722678382071072"
        ],
        [
         "H20.33.016",
         "-0.0727890044965477"
        ],
        [
         "H21.33.012",
         "-0.5070404037802498"
        ],
        [
         "H21.33.011",
         "-0.4816047038165431"
        ],
        [
         "H20.33.038",
         "-0.1947466157261759"
        ],
        [
         "H21.33.010",
         "-0.7395372590009298"
        ],
        [
         "H20.33.039",
         "0.2356913476938"
        ],
        [
         "H21.33.009",
         "0.1080169015277137"
        ],
        [
         "H21.33.017",
         "-0.8271899831568921"
        ],
        [
         "H21.33.016",
         "-0.6290469839479256"
        ]
       ],
       "shape": {
        "columns": 1,
        "rows": 2107
       }
      },
      "text/html": [
       "<div>\n",
       "<style scoped>\n",
       "    .dataframe tbody tr th:only-of-type {\n",
       "        vertical-align: middle;\n",
       "    }\n",
       "\n",
       "    .dataframe tbody tr th {\n",
       "        vertical-align: top;\n",
       "    }\n",
       "\n",
       "    .dataframe thead th {\n",
       "        text-align: right;\n",
       "    }\n",
       "</style>\n",
       "<table border=\"1\" class=\"dataframe\">\n",
       "  <thead>\n",
       "    <tr style=\"text-align: right;\">\n",
       "      <th></th>\n",
       "      <th>PRS</th>\n",
       "    </tr>\n",
       "  </thead>\n",
       "  <tbody>\n",
       "    <tr>\n",
       "      <th>H20.33.045</th>\n",
       "      <td>-0.139991</td>\n",
       "    </tr>\n",
       "    <tr>\n",
       "      <th>H20.33.044</th>\n",
       "      <td>-0.293398</td>\n",
       "    </tr>\n",
       "    <tr>\n",
       "      <th>H21.33.045</th>\n",
       "      <td>-0.616018</td>\n",
       "    </tr>\n",
       "    <tr>\n",
       "      <th>H20.33.046</th>\n",
       "      <td>-0.012919</td>\n",
       "    </tr>\n",
       "    <tr>\n",
       "      <th>H20.33.014</th>\n",
       "      <td>-0.156987</td>\n",
       "    </tr>\n",
       "    <tr>\n",
       "      <th>...</th>\n",
       "      <td>...</td>\n",
       "    </tr>\n",
       "    <tr>\n",
       "      <th>R6808939</th>\n",
       "      <td>-0.857923</td>\n",
       "    </tr>\n",
       "    <tr>\n",
       "      <th>R7423003</th>\n",
       "      <td>0.053622</td>\n",
       "    </tr>\n",
       "    <tr>\n",
       "      <th>R4703595</th>\n",
       "      <td>0.016418</td>\n",
       "    </tr>\n",
       "    <tr>\n",
       "      <th>R2213536</th>\n",
       "      <td>-0.397821</td>\n",
       "    </tr>\n",
       "    <tr>\n",
       "      <th>R3438797</th>\n",
       "      <td>0.044925</td>\n",
       "    </tr>\n",
       "  </tbody>\n",
       "</table>\n",
       "<p>2107 rows × 1 columns</p>\n",
       "</div>"
      ],
      "text/plain": [
       "                 PRS\n",
       "H20.33.045 -0.139991\n",
       "H20.33.044 -0.293398\n",
       "H21.33.045 -0.616018\n",
       "H20.33.046 -0.012919\n",
       "H20.33.014 -0.156987\n",
       "...              ...\n",
       "R6808939   -0.857923\n",
       "R7423003    0.053622\n",
       "R4703595    0.016418\n",
       "R2213536   -0.397821\n",
       "R3438797    0.044925\n",
       "\n",
       "[2107 rows x 1 columns]"
      ]
     },
     "execution_count": 74,
     "metadata": {},
     "output_type": "execute_result"
    }
   ],
   "source": [
    "prss_79 = pd.read_csv(\"data/PRS.csv\", index_col=0)\n",
    "prss_79"
   ]
  },
  {
   "cell_type": "code",
   "execution_count": 75,
   "id": "bde1b5c8",
   "metadata": {},
   "outputs": [
    {
     "data": {
      "application/vnd.microsoft.datawrangler.viewer.v0+json": {
       "columns": [
        {
         "name": "index",
         "rawType": "object",
         "type": "string"
        },
        {
         "name": "PRS",
         "rawType": "float64",
         "type": "float"
        }
       ],
       "ref": "9ec89899-768e-442a-a437-ac35946e3bb0",
       "rows": [
        [
         "H20.33.045",
         "1.0961639203999998"
        ],
        [
         "H20.33.044",
         "0.0771140551"
        ],
        [
         "H21.33.045",
         "1.3084845597"
        ],
        [
         "H20.33.046",
         "0.3369031714999998"
        ],
        [
         "H20.33.014",
         "-0.0590452146"
        ],
        [
         "H21.33.046",
         "0.1170904739999999"
        ],
        [
         "H21.33.047",
         "0.0070743429999998"
        ],
        [
         "H20.33.011",
         "1.0899272737"
        ],
        [
         "H21.33.005",
         "-0.0059931567"
        ],
        [
         "H21.33.001",
         "0.0324395774"
        ],
        [
         "H20.33.024",
         "0.1722920124"
        ],
        [
         "H21.33.007",
         "0.1168436448999999"
        ],
        [
         "H20.33.012",
         "0.1466422937"
        ],
        [
         "H20.33.025",
         "0.0829036488"
        ],
        [
         "H20.33.004",
         "1.1075359881000002"
        ],
        [
         "H20.33.017",
         "-0.0468629109"
        ],
        [
         "H20.33.013",
         "-0.093639763"
        ],
        [
         "H20.33.015",
         "0.0217116085999999"
        ],
        [
         "H20.33.018",
         "0.9968650912"
        ],
        [
         "H20.33.008",
         "0.0903652304999999"
        ],
        [
         "H20.33.005",
         "-0.0526689598"
        ],
        [
         "H20.33.026",
         "2.0074757221"
        ],
        [
         "H20.33.041",
         "0.0918369378"
        ],
        [
         "H20.33.027",
         "0.0809591509"
        ],
        [
         "H21.33.008",
         "0.2965012296"
        ],
        [
         "H20.33.019",
         "1.0416586416"
        ],
        [
         "H20.33.001",
         "0.2534090488"
        ],
        [
         "H20.33.002",
         "0.1274566498999999"
        ],
        [
         "H20.33.028",
         "0.2169062033"
        ],
        [
         "H21.33.006",
         "1.2081295496"
        ],
        [
         "H20.33.029",
         "0.1795095070999999"
        ],
        [
         "H20.33.030",
         "1.0817150181999995"
        ],
        [
         "H20.33.031",
         "0.0671948672999998"
        ],
        [
         "H20.33.020",
         "2.2925008278"
        ],
        [
         "H20.33.032",
         "0.4035697580999999"
        ],
        [
         "H20.33.033",
         "-0.1013908181999999"
        ],
        [
         "H20.33.034",
         "0.0666475651999998"
        ],
        [
         "H20.33.035",
         "0.1226320318999999"
        ],
        [
         "H20.33.036",
         "0.0603211123999998"
        ],
        [
         "H20.33.037",
         "0.1177451519999999"
        ],
        [
         "H20.33.043",
         "2.0808885973"
        ],
        [
         "H20.33.016",
         "0.1818395029999998"
        ],
        [
         "H21.33.012",
         "1.0414184833999998"
        ],
        [
         "H21.33.011",
         "0.0468124992999999"
        ],
        [
         "H20.33.038",
         "0.1614344859999998"
        ],
        [
         "H21.33.010",
         "0.0020251991999998"
        ],
        [
         "H20.33.039",
         "0.3100533728999999"
        ],
        [
         "H21.33.009",
         "1.1469442476999998"
        ],
        [
         "H21.33.017",
         "0.0673313088999999"
        ],
        [
         "H21.33.016",
         "0.0948074221999998"
        ]
       ],
       "shape": {
        "columns": 1,
        "rows": 2107
       }
      },
      "text/html": [
       "<div>\n",
       "<style scoped>\n",
       "    .dataframe tbody tr th:only-of-type {\n",
       "        vertical-align: middle;\n",
       "    }\n",
       "\n",
       "    .dataframe tbody tr th {\n",
       "        vertical-align: top;\n",
       "    }\n",
       "\n",
       "    .dataframe thead th {\n",
       "        text-align: right;\n",
       "    }\n",
       "</style>\n",
       "<table border=\"1\" class=\"dataframe\">\n",
       "  <thead>\n",
       "    <tr style=\"text-align: right;\">\n",
       "      <th></th>\n",
       "      <th>PRS</th>\n",
       "    </tr>\n",
       "  </thead>\n",
       "  <tbody>\n",
       "    <tr>\n",
       "      <th>H20.33.045</th>\n",
       "      <td>1.096164</td>\n",
       "    </tr>\n",
       "    <tr>\n",
       "      <th>H20.33.044</th>\n",
       "      <td>0.077114</td>\n",
       "    </tr>\n",
       "    <tr>\n",
       "      <th>H21.33.045</th>\n",
       "      <td>1.308485</td>\n",
       "    </tr>\n",
       "    <tr>\n",
       "      <th>H20.33.046</th>\n",
       "      <td>0.336903</td>\n",
       "    </tr>\n",
       "    <tr>\n",
       "      <th>H20.33.014</th>\n",
       "      <td>-0.059045</td>\n",
       "    </tr>\n",
       "    <tr>\n",
       "      <th>...</th>\n",
       "      <td>...</td>\n",
       "    </tr>\n",
       "    <tr>\n",
       "      <th>R6808939</th>\n",
       "      <td>0.616547</td>\n",
       "    </tr>\n",
       "    <tr>\n",
       "      <th>R7423003</th>\n",
       "      <td>0.214772</td>\n",
       "    </tr>\n",
       "    <tr>\n",
       "      <th>R4703595</th>\n",
       "      <td>0.103615</td>\n",
       "    </tr>\n",
       "    <tr>\n",
       "      <th>R2213536</th>\n",
       "      <td>-0.033968</td>\n",
       "    </tr>\n",
       "    <tr>\n",
       "      <th>R3438797</th>\n",
       "      <td>0.248671</td>\n",
       "    </tr>\n",
       "  </tbody>\n",
       "</table>\n",
       "<p>2107 rows × 1 columns</p>\n",
       "</div>"
      ],
      "text/plain": [
       "                 PRS\n",
       "H20.33.045  1.096164\n",
       "H20.33.044  0.077114\n",
       "H21.33.045  1.308485\n",
       "H20.33.046  0.336903\n",
       "H20.33.014 -0.059045\n",
       "...              ...\n",
       "R6808939    0.616547\n",
       "R7423003    0.214772\n",
       "R4703595    0.103615\n",
       "R2213536   -0.033968\n",
       "R3438797    0.248671\n",
       "\n",
       "[2107 rows x 1 columns]"
      ]
     },
     "execution_count": 75,
     "metadata": {},
     "output_type": "execute_result"
    }
   ],
   "source": [
    "prss_finngen = pd.read_csv(\"data/PRS_FinnGen.csv\", index_col=0)\n",
    "prss_finngen"
   ]
  },
  {
   "cell_type": "code",
   "execution_count": 76,
   "id": "700ad0de",
   "metadata": {},
   "outputs": [
    {
     "data": {
      "image/png": "[encoded data removed]",
      "text/plain": [
       "<Figure size 640x480 with 1 Axes>"
      ]
     },
     "metadata": {},
     "output_type": "display_data"
    },
    {
     "name": "stdout",
     "output_type": "stream",
     "text": [
      "                 PRS\n",
      "H20.33.045 -0.139991\n",
      "H20.33.044 -0.293398\n",
      "H21.33.045 -0.616018\n",
      "H20.33.046 -0.012919\n",
      "H20.33.014 -0.156987\n",
      "...              ...\n",
      "R6808939   -0.857923\n",
      "R7423003    0.053622\n",
      "R4703595    0.016418\n",
      "R2213536   -0.397821\n",
      "R3438797    0.044925\n",
      "\n",
      "[2107 rows x 1 columns] H20.33.045   -0.306817\n",
      "H20.33.044   -0.293639\n",
      "H21.33.045   -0.377335\n",
      "H20.33.046   -0.287165\n",
      "H20.33.014   -0.331064\n",
      "                ...   \n",
      "R6808939     -0.404587\n",
      "R7423003     -0.254851\n",
      "R4703595     -0.292433\n",
      "R2213536     -0.336763\n",
      "R3438797     -0.313826\n",
      "Name: PRS, Length: 2107, dtype: float64\n"
     ]
    },
    {
     "name": "stderr",
     "output_type": "stream",
     "text": [
      "C:\\Users\\timo\\AppData\\Local\\Temp\\ipykernel_26716\\3106332224.py:8: ConstantInputWarning: An input array is constant; the correlation coefficient is not defined.\n",
      "  corr, p_value = pearsonr(prss_79, prss)\n"
     ]
    }
   ],
   "source": [
    "plt.scatter(prss_79, prss)\n",
    "plt.xlabel(\"PRS from 79 SNPs\")\n",
    "plt.ylabel(\"PRS from 35 SNPS (Wightman)\")\n",
    "plt.show()\n",
    "\n",
    "# check correlation\n",
    "from scipy.stats import pearsonr\n",
    "corr, p_value = pearsonr(prss_79, prss)\n",
    "print(prss_79, prss)"
   ]
  },
  {
   "cell_type": "code",
   "execution_count": 77,
   "id": "718babc0",
   "metadata": {},
   "outputs": [
    {
     "data": {
      "image/png": "[encoded data removed]",
      "text/plain": [
       "<Figure size 640x480 with 1 Axes>"
      ]
     },
     "metadata": {},
     "output_type": "display_data"
    },
    {
     "name": "stderr",
     "output_type": "stream",
     "text": [
      "C:\\Users\\timo\\AppData\\Local\\Temp\\ipykernel_26716\\3804996346.py:8: ConstantInputWarning: An input array is constant; the correlation coefficient is not defined.\n",
      "  corr, p_value = pearsonr(prss_finngen, prss)\n"
     ]
    },
    {
     "name": "stdout",
     "output_type": "stream",
     "text": [
      "                 PRS\n",
      "H20.33.045  1.096164\n",
      "H20.33.044  0.077114\n",
      "H21.33.045  1.308485\n",
      "H20.33.046  0.336903\n",
      "H20.33.014 -0.059045\n",
      "...              ...\n",
      "R6808939    0.616547\n",
      "R7423003    0.214772\n",
      "R4703595    0.103615\n",
      "R2213536   -0.033968\n",
      "R3438797    0.248671\n",
      "\n",
      "[2107 rows x 1 columns] H20.33.045   -0.306817\n",
      "H20.33.044   -0.293639\n",
      "H21.33.045   -0.377335\n",
      "H20.33.046   -0.287165\n",
      "H20.33.014   -0.331064\n",
      "                ...   \n",
      "R6808939     -0.404587\n",
      "R7423003     -0.254851\n",
      "R4703595     -0.292433\n",
      "R2213536     -0.336763\n",
      "R3438797     -0.313826\n",
      "Name: PRS, Length: 2107, dtype: float64\n"
     ]
    }
   ],
   "source": [
    "plt.scatter(prss_finngen, prss)\n",
    "plt.xlabel(\"PRS from 7 SNPs (FinnGen)\")\n",
    "plt.ylabel(\"PRS from 35 SNPS (Wightman)\")\n",
    "plt.show()\n",
    "\n",
    "# check correlation\n",
    "from scipy.stats import pearsonr\n",
    "corr, p_value = pearsonr(prss_finngen, prss)\n",
    "print(prss_finngen, prss)"
   ]
  },
  {
   "cell_type": "code",
   "execution_count": 78,
   "id": "9047b49c",
   "metadata": {},
   "outputs": [
    {
     "data": {
      "text/plain": [
       "(array([  6.,  83., 277., 558., 634., 395., 120.,  28.,   4.,   2.]),\n",
       " array([-0.4326759 , -0.40127368, -0.36987146, -0.33846924, -0.30706702,\n",
       "        -0.2756648 , -0.24426258, -0.21286036, -0.18145814, -0.15005592,\n",
       "        -0.1186537 ]),\n",
       " <BarContainer object of 10 artists>)"
      ]
     },
     "execution_count": 78,
     "metadata": {},
     "output_type": "execute_result"
    },
    {
     "data": {
      "image/png": "[encoded data removed]",
      "text/plain": [
       "<Figure size 640x480 with 1 Axes>"
      ]
     },
     "metadata": {},
     "output_type": "display_data"
    }
   ],
   "source": [
    "plt.hist(prss)"
   ]
  },
  {
   "cell_type": "code",
   "execution_count": 94,
   "id": "e1fc6945",
   "metadata": {},
   "outputs": [
    {
     "name": "stdout",
     "output_type": "stream",
     "text": [
      "Found 2016 overlapping samples between clinical and PRS data.\n"
     ]
    }
   ],
   "source": [
    "# validate the PRSs against the clinical metadata\n",
    "\n",
    "clinical = pd.read_csv(\"data/ROSMAP_clinical.csv\", index_col=\"individualID\")\n",
    "\n",
    "# check overlap between clinical and PRS\n",
    "overlap = clinical.index.intersection(prss.index)\n",
    "print(f\"Found {len(overlap)} overlapping samples between clinical and PRS data.\")\n",
    "\n",
    "clinical_overlap = clinical.loc[overlap]\n",
    "prss_overlap = prss.loc[overlap]\n",
    "prss_79_overlap = prss_79.loc[overlap]\n",
    "prss_finngen_overlap = prss_finngen.loc[overlap]\n",
    "\n",
    "df = clinical_overlap.copy()\n",
    "df[\"PRS_79\"] = prss_79_overlap.values.flatten()\n",
    "df[\"PRS_Wightman\"] = prss_overlap.values.flatten()\n",
    "df[\"PRS_FinnGen\"] = prss_finngen_overlap.values.flatten()\n",
    "df[\"APOE\"] = clinical_overlap[\"apoe_genotype\"].astype(str)\n"
   ]
  },
  {
   "cell_type": "code",
   "execution_count": 81,
   "id": "1de9f52c",
   "metadata": {},
   "outputs": [],
   "source": [
    "sns.set_style(\"whitegrid\")"
   ]
  },
  {
   "cell_type": "code",
   "execution_count": 96,
   "id": "0b477c88",
   "metadata": {},
   "outputs": [
    {
     "data": {
      "text/plain": [
       "<Axes: xlabel='PRS_Wightman', ylabel='PRS_FinnGen'>"
      ]
     },
     "execution_count": 96,
     "metadata": {},
     "output_type": "execute_result"
    },
    {
     "data": {
      "image/png": "[encoded data removed]",
      "text/plain": [
       "<Figure size 640x480 with 1 Axes>"
      ]
     },
     "metadata": {},
     "output_type": "display_data"
    }
   ],
   "source": [
    "sns.scatterplot(data=df, x=\"PRS_Wightman\", y=\"PRS_FinnGen\", hue=\"APOE\", alpha=0.6, palette=\"Set1\")"
   ]
  },
  {
   "cell_type": "code",
   "execution_count": 98,
   "id": "baf231b1",
   "metadata": {},
   "outputs": [
    {
     "data": {
      "text/plain": [
       "Index(['projid', 'Study', 'msex', 'educ', 'race', 'spanish', 'apoe_genotype',\n",
       "       'age_at_visit_max', 'age_first_ad_dx', 'age_death',\n",
       "       'cts_mmse30_first_ad_dx', 'cts_mmse30_lv', 'pmi', 'braaksc', 'ceradsc',\n",
       "       'cogdx', 'dcfdx_lv', 'PRS_79', 'PRS_Wightman', 'PRS_FinnGen', 'APOE'],\n",
       "      dtype='object')"
      ]
     },
     "execution_count": 98,
     "metadata": {},
     "output_type": "execute_result"
    }
   ],
   "source": [
    "df.columns"
   ]
  },
  {
   "cell_type": "code",
   "execution_count": 102,
   "id": "bdf0efed",
   "metadata": {},
   "outputs": [
    {
     "data": {
      "text/plain": [
       "<Axes: xlabel='braaksc', ylabel='PRS_Wightman'>"
      ]
     },
     "execution_count": 102,
     "metadata": {},
     "output_type": "execute_result"
    },
    {
     "data": {
      "image/png": "[encoded data removed]",
      "text/plain": [
       "<Figure size 640x480 with 1 Axes>"
      ]
     },
     "metadata": {},
     "output_type": "display_data"
    }
   ],
   "source": [
    "sns.boxplot(df, y=\"PRS_Wightman\", x=\"braaksc\")"
   ]
  },
  {
   "cell_type": "code",
   "execution_count": 104,
   "id": "4beafc83",
   "metadata": {},
   "outputs": [
    {
     "data": {
      "text/plain": [
       "<Axes: xlabel='braaksc', ylabel='PRS_79'>"
      ]
     },
     "execution_count": 104,
     "metadata": {},
     "output_type": "execute_result"
    },
    {
     "data": {
      "image/png": "[encoded data removed]",
      "text/plain": [
       "<Figure size 640x480 with 1 Axes>"
      ]
     },
     "metadata": {},
     "output_type": "display_data"
    }
   ],
   "source": [
    "sns.boxplot(df, y=\"PRS_79\", x=\"braaksc\")"
   ]
  },
  {
   "cell_type": "code",
   "execution_count": 105,
   "id": "dbe03683",
   "metadata": {},
   "outputs": [
    {
     "data": {
      "text/plain": [
       "<Axes: xlabel='braaksc', ylabel='PRS_FinnGen'>"
      ]
     },
     "execution_count": 105,
     "metadata": {},
     "output_type": "execute_result"
    },
    {
     "data": {
      "image/png": "[encoded data removed]",
      "text/plain": [
       "<Figure size 640x480 with 1 Axes>"
      ]
     },
     "metadata": {},
     "output_type": "display_data"
    }
   ],
   "source": [
    "sns.boxplot(df, y=\"PRS_FinnGen\", x=\"braaksc\")"
   ]
  },
  {
   "cell_type": "code",
   "execution_count": 106,
   "id": "da222522",
   "metadata": {},
   "outputs": [
    {
     "data": {
      "application/vnd.microsoft.datawrangler.viewer.v0+json": {
       "columns": [
        {
         "name": "projid",
         "rawType": "int64",
         "type": "integer"
        },
        {
         "name": "PRS",
         "rawType": "float64",
         "type": "float"
        }
       ],
       "ref": "97d761a2-b8f4-4305-a6f5-6fb4c5ce3acf",
       "rows": [
        [
         "10101589",
         "-0.29394319999999996"
        ],
        [
         "86767530",
         "-0.34964779999999995"
        ],
        [
         "9650662",
         "-0.2844877999999999"
        ],
        [
         "50402855",
         "-0.3049206"
        ],
        [
         "20544321",
         "-0.3144981"
        ],
        [
         "20630946",
         "-0.3655627"
        ],
        [
         "39136480",
         "-0.29134399999999994"
        ],
        [
         "87195990",
         "-0.3355118"
        ],
        [
         "20718719",
         "-0.29903520000000006"
        ],
        [
         "10433070",
         "-0.3093909"
        ],
        [
         "68361020",
         "-0.3242906"
        ],
        [
         "11390174",
         "-0.29231550000000006"
        ],
        [
         "20969088",
         "-0.2605819"
        ],
        [
         "47236602",
         "-0.28349579999999996"
        ],
        [
         "73943687",
         "-0.33610780000000007"
        ],
        [
         "79680333",
         "-0.30883550000000004"
        ],
        [
         "28314511",
         "-0.2736083"
        ],
        [
         "20191566",
         "-0.3042913000000001"
        ],
        [
         "18920002",
         "-0.26064009999999993"
        ],
        [
         "20907246",
         "-0.30292199999999997"
        ],
        [
         "20104101",
         "-0.29100190000000004"
        ],
        [
         "98186040",
         "-0.2713018"
        ],
        [
         "4330337",
         "-0.3075853"
        ],
        [
         "50108200",
         "-0.2669619"
        ],
        [
         "50305165",
         "-0.26848900000000003"
        ],
        [
         "13419518",
         "-0.27798610000000007"
        ],
        [
         "7287209",
         "-0.2374067"
        ],
        [
         "46369736",
         "-0.3198017"
        ],
        [
         "20503840",
         "-0.31057859999999987"
        ],
        [
         "20911508",
         "-0.2625793"
        ],
        [
         "50304024",
         "-0.30608250000000004"
        ],
        [
         "39405962",
         "-0.3050157999999999"
        ],
        [
         "21197684",
         "-0.3708640000000001"
        ],
        [
         "2525608",
         "-0.2984271"
        ],
        [
         "5331374",
         "-0.29337420000000003"
        ],
        [
         "17615774",
         "-0.3225049"
        ],
        [
         "7265221",
         "-0.36350269999999996"
        ],
        [
         "50108462",
         "-0.31361849999999997"
        ],
        [
         "20865035",
         "-0.26466160000000005"
        ],
        [
         "44472870",
         "-0.27598179999999994"
        ],
        [
         "20201891",
         "-0.33112660000000005"
        ],
        [
         "13666711",
         "-0.36584400000000006"
        ],
        [
         "22677865",
         "-0.25466160000000004"
        ],
        [
         "45212640",
         "-0.25687910000000014"
        ],
        [
         "22644848",
         "-0.2832104"
        ],
        [
         "10488101",
         "-0.2820192"
        ],
        [
         "71514280",
         "-0.3411823"
        ],
        [
         "50106154",
         "-0.35704749999999996"
        ],
        [
         "50108750",
         "-0.3552173"
        ],
        [
         "36751041",
         "-0.2946812"
        ]
       ],
       "shape": {
        "columns": 1,
        "rows": 2016
       }
      },
      "text/plain": [
       "projid\n",
       "10101589   -0.293943\n",
       "86767530   -0.349648\n",
       "9650662    -0.284488\n",
       "50402855   -0.304921\n",
       "20544321   -0.314498\n",
       "              ...   \n",
       "11699350   -0.263525\n",
       "46757148   -0.346681\n",
       "74494179   -0.272221\n",
       "38113465   -0.278821\n",
       "90214403   -0.308574\n",
       "Name: PRS, Length: 2016, dtype: float64"
      ]
     },
     "execution_count": 106,
     "metadata": {},
     "output_type": "execute_result"
    }
   ],
   "source": [
    "# use the clinical data to map the Donor IDs to projid, such that we also a a mapping from the projid to the PRS\n",
    "\n",
    "clinical[\"projid\"]\n",
    "\n",
    "\n",
    "prss_by_projid = pd.Series(prss_overlap.values, index=clinical[\"projid\"][prss_overlap.index], name=\"PRS\")\n",
    "prss_by_projid.to_csv(\"data/PRS_Wightman_by_projid.csv\")\n",
    "\n",
    "prss_by_projid"
   ]
  }
 ],
 "metadata": {
  "kernelspec": {
   "display_name": "default",
   "language": "python",
   "name": "python3"
  },
  "language_info": {
   "codemirror_mode": {
    "name": "ipython",
    "version": 3
   },
   "file_extension": ".py",
   "mimetype": "text/x-python",
   "name": "python",
   "nbconvert_exporter": "python",
   "pygments_lexer": "ipython3",
   "version": "3.12.11"
  }
 },
 "nbformat": 4,
 "nbformat_minor": 5
}
