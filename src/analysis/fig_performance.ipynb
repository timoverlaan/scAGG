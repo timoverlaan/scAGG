{
 "cells": [
  {
   "cell_type": "code",
   "execution_count": 9,
   "id": "06131e53",
   "metadata": {},
   "outputs": [],
   "source": [
    "import json\n",
    "\n",
    "import pandas as pd"
   ]
  },
  {
   "cell_type": "code",
   "execution_count": 10,
   "id": "12c70adf",
   "metadata": {},
   "outputs": [],
   "source": [
    "def parse_performance_json(exp_name: str):\n",
    "    with open(f\"out/results/{exp_name}.json\", \"r\") as f:\n",
    "        data = json.load(f)\n",
    "\n",
    "    dfs = {}\n",
    "    for model in data.keys():\n",
    "        print(f\"Model: {model} -> {len(data[model])} folds\")\n",
    "\n",
    "        df = pd.DataFrame(data[model])\n",
    "        df[\"model\"] = model\n",
    "\n",
    "        df = df[[\"model\", \"fold\", \"accuracy\", \"precision\", \"recall\", \"f1\", \"roc_auc\"]]\n",
    "\n",
    "        dfs[model] = df\n",
    "        # dfs[model][\"model\"] = model\n",
    "        # dfs[model][\"exp_name\"] = exp_name\n",
    "\n",
    "    df = pd.concat(dfs, axis=0)\n",
    "    return df"
   ]
  },
  {
   "cell_type": "code",
   "execution_count": 11,
   "id": "fb0f2c7d",
   "metadata": {},
   "outputs": [
    {
     "name": "stdout",
     "output_type": "stream",
     "text": [
      "Model: Cell-level -> 1 folds\n",
      "Model: Pseudobulk -> 1 folds\n",
      "Model: scRAT -> 1 folds\n",
      "Model: scAGG -> 1 folds\n",
      "Model: scAGG+GAT -> 1 folds\n",
      "Model: scAGG+GAT+AP -> 1 folds\n",
      "Model: scAGG+AP -> 1 folds\n"
     ]
    },
    {
     "data": {
      "application/vnd.microsoft.datawrangler.viewer.v0+json": {
       "columns": [
        {
         "name": "(None, None)",
         "rawType": "object",
         "type": "unknown"
        },
        {
         "name": "model",
         "rawType": "object",
         "type": "string"
        },
        {
         "name": "fold",
         "rawType": "int64",
         "type": "integer"
        },
        {
         "name": "accuracy",
         "rawType": "float64",
         "type": "float"
        },
        {
         "name": "precision",
         "rawType": "float64",
         "type": "float"
        },
        {
         "name": "recall",
         "rawType": "float64",
         "type": "float"
        },
        {
         "name": "f1",
         "rawType": "float64",
         "type": "float"
        },
        {
         "name": "roc_auc",
         "rawType": "float64",
         "type": "float"
        }
       ],
       "ref": "c7ec6185-a9f3-4480-ba4e-e66dabbc5b0b",
       "rows": [
        [
         "('Cell-level', 0)",
         "Cell-level",
         "0",
         "0.825",
         "0.8421052631578947",
         "0.9696969696969697",
         "0.9014084507042254",
         "0.5497835497835498"
        ],
        [
         "('Pseudobulk', 0)",
         "Pseudobulk",
         "0",
         "0.3",
         "1.0",
         "0.15151515151515152",
         "0.2631578947368421",
         "0.8181818181818182"
        ],
        [
         "('scRAT', 0)",
         "scRAT",
         "0",
         "0.825",
         "0.825",
         "1.0",
         "0.9041095890410958",
         "0.5"
        ],
        [
         "('scAGG', 0)",
         "scAGG",
         "0",
         "0.375",
         "1.0",
         "0.24242424242424243",
         "0.3902439024390244",
         "0.8225108225108226"
        ],
        [
         "('scAGG+GAT', 0)",
         "scAGG+GAT",
         "0",
         "0.25",
         "1.0",
         "0.09090909090909091",
         "0.16666666666666666",
         "0.6839826839826839"
        ],
        [
         "('scAGG+GAT+AP', 0)",
         "scAGG+GAT+AP",
         "0",
         "0.175",
         "0.0",
         "0.0",
         "0.0",
         "0.7056277056277056"
        ],
        [
         "('scAGG+AP', 0)",
         "scAGG+AP",
         "0",
         "0.175",
         "0.0",
         "0.0",
         "0.0",
         "0.8268398268398268"
        ]
       ],
       "shape": {
        "columns": 7,
        "rows": 7
       }
      },
      "text/html": [
       "<div>\n",
       "<style scoped>\n",
       "    .dataframe tbody tr th:only-of-type {\n",
       "        vertical-align: middle;\n",
       "    }\n",
       "\n",
       "    .dataframe tbody tr th {\n",
       "        vertical-align: top;\n",
       "    }\n",
       "\n",
       "    .dataframe thead th {\n",
       "        text-align: right;\n",
       "    }\n",
       "</style>\n",
       "<table border=\"1\" class=\"dataframe\">\n",
       "  <thead>\n",
       "    <tr style=\"text-align: right;\">\n",
       "      <th></th>\n",
       "      <th></th>\n",
       "      <th>model</th>\n",
       "      <th>fold</th>\n",
       "      <th>accuracy</th>\n",
       "      <th>precision</th>\n",
       "      <th>recall</th>\n",
       "      <th>f1</th>\n",
       "      <th>roc_auc</th>\n",
       "    </tr>\n",
       "  </thead>\n",
       "  <tbody>\n",
       "    <tr>\n",
       "      <th>Cell-level</th>\n",
       "      <th>0</th>\n",
       "      <td>Cell-level</td>\n",
       "      <td>0</td>\n",
       "      <td>0.825</td>\n",
       "      <td>0.842105</td>\n",
       "      <td>0.969697</td>\n",
       "      <td>0.901408</td>\n",
       "      <td>0.549784</td>\n",
       "    </tr>\n",
       "    <tr>\n",
       "      <th>Pseudobulk</th>\n",
       "      <th>0</th>\n",
       "      <td>Pseudobulk</td>\n",
       "      <td>0</td>\n",
       "      <td>0.300</td>\n",
       "      <td>1.000000</td>\n",
       "      <td>0.151515</td>\n",
       "      <td>0.263158</td>\n",
       "      <td>0.818182</td>\n",
       "    </tr>\n",
       "    <tr>\n",
       "      <th>scRAT</th>\n",
       "      <th>0</th>\n",
       "      <td>scRAT</td>\n",
       "      <td>0</td>\n",
       "      <td>0.825</td>\n",
       "      <td>0.825000</td>\n",
       "      <td>1.000000</td>\n",
       "      <td>0.904110</td>\n",
       "      <td>0.500000</td>\n",
       "    </tr>\n",
       "    <tr>\n",
       "      <th>scAGG</th>\n",
       "      <th>0</th>\n",
       "      <td>scAGG</td>\n",
       "      <td>0</td>\n",
       "      <td>0.375</td>\n",
       "      <td>1.000000</td>\n",
       "      <td>0.242424</td>\n",
       "      <td>0.390244</td>\n",
       "      <td>0.822511</td>\n",
       "    </tr>\n",
       "    <tr>\n",
       "      <th>scAGG+GAT</th>\n",
       "      <th>0</th>\n",
       "      <td>scAGG+GAT</td>\n",
       "      <td>0</td>\n",
       "      <td>0.250</td>\n",
       "      <td>1.000000</td>\n",
       "      <td>0.090909</td>\n",
       "      <td>0.166667</td>\n",
       "      <td>0.683983</td>\n",
       "    </tr>\n",
       "    <tr>\n",
       "      <th>scAGG+GAT+AP</th>\n",
       "      <th>0</th>\n",
       "      <td>scAGG+GAT+AP</td>\n",
       "      <td>0</td>\n",
       "      <td>0.175</td>\n",
       "      <td>0.000000</td>\n",
       "      <td>0.000000</td>\n",
       "      <td>0.000000</td>\n",
       "      <td>0.705628</td>\n",
       "    </tr>\n",
       "    <tr>\n",
       "      <th>scAGG+AP</th>\n",
       "      <th>0</th>\n",
       "      <td>scAGG+AP</td>\n",
       "      <td>0</td>\n",
       "      <td>0.175</td>\n",
       "      <td>0.000000</td>\n",
       "      <td>0.000000</td>\n",
       "      <td>0.000000</td>\n",
       "      <td>0.826840</td>\n",
       "    </tr>\n",
       "  </tbody>\n",
       "</table>\n",
       "</div>"
      ],
      "text/plain": [
       "                       model  fold  accuracy  precision    recall        f1  \\\n",
       "Cell-level   0    Cell-level     0     0.825   0.842105  0.969697  0.901408   \n",
       "Pseudobulk   0    Pseudobulk     0     0.300   1.000000  0.151515  0.263158   \n",
       "scRAT        0         scRAT     0     0.825   0.825000  1.000000  0.904110   \n",
       "scAGG        0         scAGG     0     0.375   1.000000  0.242424  0.390244   \n",
       "scAGG+GAT    0     scAGG+GAT     0     0.250   1.000000  0.090909  0.166667   \n",
       "scAGG+GAT+AP 0  scAGG+GAT+AP     0     0.175   0.000000  0.000000  0.000000   \n",
       "scAGG+AP     0      scAGG+AP     0     0.175   0.000000  0.000000  0.000000   \n",
       "\n",
       "                 roc_auc  \n",
       "Cell-level   0  0.549784  \n",
       "Pseudobulk   0  0.818182  \n",
       "scRAT        0  0.500000  \n",
       "scAGG        0  0.822511  \n",
       "scAGG+GAT    0  0.683983  \n",
       "scAGG+GAT+AP 0  0.705628  \n",
       "scAGG+AP     0  0.826840  "
      ]
     },
     "execution_count": 11,
     "metadata": {},
     "output_type": "execute_result"
    }
   ],
   "source": [
    "parse_performance_json(\"SeaAD\")"
   ]
  },
  {
   "cell_type": "code",
   "execution_count": 12,
   "id": "cdaf53e4",
   "metadata": {},
   "outputs": [
    {
     "name": "stdout",
     "output_type": "stream",
     "text": [
      "Model: Cell-level -> 1 folds\n",
      "Model: Pseudobulk -> 1 folds\n",
      "Model: scRAT -> 1 folds\n",
      "Model: scAGG -> 1 folds\n",
      "Model: scAGG+GAT -> 1 folds\n",
      "Model: scAGG+GAT+AP -> 1 folds\n",
      "Model: scAGG+AP -> 1 folds\n"
     ]
    },
    {
     "data": {
      "image/png": "[encoded data removed]",
      "text/plain": [
       "<Figure size 2000x400 with 5 Axes>"
      ]
     },
     "metadata": {},
     "output_type": "display_data"
    }
   ],
   "source": [
    "import matplotlib.pyplot as plt\n",
    "\n",
    "# Parse the performance data\n",
    "df = parse_performance_json(\"SeaAD\")\n",
    "\n",
    "metrics = [\"accuracy\", \"precision\", \"recall\", \"f1\", \"roc_auc\"]\n",
    "fig, axes = plt.subplots(1, 5, figsize=(20, 4), sharey=False)\n",
    "\n",
    "for i, metric in enumerate(metrics):\n",
    "    avg = df.groupby(\"model\")[metric].mean()\n",
    "    std = df.groupby(\"model\")[metric].std()\n",
    "    avg.plot(\n",
    "        kind=\"bar\",\n",
    "        yerr=std,\n",
    "        ax=axes[i],\n",
    "        title=metric.capitalize(),\n",
    "        capsize=4,\n",
    "        legend=False\n",
    "    )\n",
    "    axes[i].set_ylabel(metric.capitalize())\n",
    "    axes[i].set_xlabel(\"Model\")\n",
    "\n",
    "plt.tight_layout()\n",
    "plt.show()"
   ]
  }
 ],
 "metadata": {
  "kernelspec": {
   "display_name": "default",
   "language": "python",
   "name": "python3"
  },
  "language_info": {
   "codemirror_mode": {
    "name": "ipython",
    "version": 3
   },
   "file_extension": ".py",
   "mimetype": "text/x-python",
   "name": "python",
   "nbconvert_exporter": "python",
   "pygments_lexer": "ipython3",
   "version": "3.12.11"
  }
 },
 "nbformat": 4,
 "nbformat_minor": 5
}
