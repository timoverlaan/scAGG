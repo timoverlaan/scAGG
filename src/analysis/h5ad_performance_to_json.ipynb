{
 "cells": [
  {
   "cell_type": "code",
   "execution_count": null,
   "id": "b9d2a00a",
   "metadata": {},
   "outputs": [],
   "source": [
    "import json\n",
    "import anndata as ad\n",
    "\n",
    "\n",
    "import sys\n",
    "sys.path.append(\"src\")  # hacky way to get access to the util.save_perf\n",
    "from util import save_perf"
   ]
  },
  {
   "cell_type": "code",
   "execution_count": null,
   "id": "906d8b92",
   "metadata": {},
   "outputs": [],
   "source": [
    "FILES = [\n",
    "    {\n",
    "        \"exp_name\": \"COMBAT_top2000\",\n",
    "        \"model\": \"scAGG\",\n",
    "        \"file\": \"out/results/COMBAT_top2000_scAGG+AP_results.h5ad\",\n",
    "    },\n",
    "    {\n",
    "        \"exp_name\": \"COMBAT_top2000\",\n",
    "        \"model\": \"scAGG+GAT\",\n",
    "        \"file\": \"out/results/COMBAT_top2000_scAGG+GAT_results.h5ad\",\n",
    "    },\n",
    "    {\n",
    "        \"exp_name\": \"COMBAT_top2000\",\n",
    "        \"model\": \"scAGG+GAT+AP\",\n",
    "        \"file\": \"out/results/COMBAT_top2000_scAGG+GAT+AP_results.h5ad\",\n",
    "    },\n",
    "    {\n",
    "        \"exp_name\": \"COMBAT_top2000\",\n",
    "        \"model\": \"scAGG+AP\",\n",
    "        \"file\": \"out/results/COMBAT_top2000_scAGG+AP_results.h5ad\",\n",
    "    },\n",
    "    # {\n",
    "    #     \"exp_name\": \"ROSMAP\",\n",
    "    #     \"model\": \"scAGG\",\n",
    "    #     \"file\": \"out/results/ROSMAP_scAGG_results.h5ad\",\n",
    "    # },\n",
    "    # {\n",
    "    #     \"exp_name\": \"ROSMAP\",\n",
    "    #     \"model\": \"scAGG+GAT\",\n",
    "    #     \"file\": \"out/results/ROSMAP_scAGG+GAT_results.h5ad\",\n",
    "    # },\n",
    "]"
   ]
  },
  {
   "cell_type": "code",
   "execution_count": null,
   "id": "92d60e9c",
   "metadata": {},
   "outputs": [],
   "source": [
    "for file_info in FILES:\n",
    "    adata = ad.read_h5ad(file_info[\"file\"])\n",
    "    performance = adata.uns[\"performance\"]\n",
    "    \n",
    "    # TODO: parse the performance from the anndata\n",
    "\n",
    "    save_perf(\n",
    "        exp_name=\"COMBAT_top2000\",\n",
    "        model_name=\"CTCC\",\n",
    "        fold=i,\n",
    "        accuracy=test_acc_donor[-1],\n",
    "        precision=test_prec_donor[-1],\n",
    "        recall=test_rec_donor[-1],\n",
    "        f1=test_f1_donor[-1],\n",
    "        roc_auc=test_auc_donor[-1],\n",
    "        train_donors=train_donors,\n",
    "        test_donors=test_donors,\n",
    "        train_y=donor_labels[train_index],\n",
    "        test_y=donor_labels[test_index],\n",
    "        train_y_pred=donor_pred_train.flatten(),\n",
    "        test_y_pred=donor_pred.flatten(),\n",
    "    )"
   ]
  }
 ],
 "metadata": {
  "language_info": {
   "name": "python"
  }
 },
 "nbformat": 4,
 "nbformat_minor": 5
}
