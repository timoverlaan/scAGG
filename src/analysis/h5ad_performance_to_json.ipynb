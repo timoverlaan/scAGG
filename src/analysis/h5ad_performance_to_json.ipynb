{
 "cells": [
  {
   "cell_type": "code",
   "execution_count": 1,
   "id": "b9d2a00a",
   "metadata": {},
   "outputs": [],
   "source": [
    "import anndata as ad\n",
    "\n",
    "import sys\n",
    "sys.path.append(\"src\")  # hacky way to get access to the util.save_perf\n",
    "from util import save_perf"
   ]
  },
  {
   "cell_type": "code",
   "execution_count": 2,
   "id": "906d8b92",
   "metadata": {},
   "outputs": [],
   "source": [
    "FILES = [\n",
    "    # {\n",
    "    #     \"exp_name\": \"COMBAT_top2000\",\n",
    "    #     \"model\": \"scAGG\",\n",
    "    #     \"file\": \"out/results/COMBAT_top2000_scAGG_results.h5ad\",\n",
    "    # },\n",
    "    # {\n",
    "    #     \"exp_name\": \"COMBAT_top2000\",\n",
    "    #     \"model\": \"scAGG+GAT\",\n",
    "    #     \"file\": \"out/results/COMBAT_top2000_scAGG+GAT_results.h5ad\",\n",
    "    # },\n",
    "    # {\n",
    "    #     \"exp_name\": \"COMBAT_top2000\",\n",
    "    #     \"model\": \"scAGG+GAT+AP\",\n",
    "    #     \"file\": \"out/results/COMBAT_top2000_scAGG+GAT+AP_results.h5ad\",\n",
    "    # },\n",
    "    # {\n",
    "    #     \"exp_name\": \"COMBAT_top2000\",\n",
    "    #     \"model\": \"scAGG+AP\",\n",
    "    #     \"file\": \"out/results/COMBAT_top2000_scAGG+AP_results.h5ad\",\n",
    "    # },\n",
    "\n",
    "    # {\n",
    "    #     \"exp_name\": \"ROSMAP\",\n",
    "    #     \"model\": \"scAGG\",\n",
    "    #     \"file\": \"out/results/ROSMAP_scAGG_results.h5ad\",\n",
    "    # },\n",
    "    # {\n",
    "    #     \"exp_name\": \"ROSMAP\",\n",
    "    #     \"model\": \"scAGG+GAT\",\n",
    "    #     \"file\": \"out/results/ROSMAP_scAGG+GAT_results.h5ad\",\n",
    "    # },\n",
    "\n",
    "    {\n",
    "        \"exp_name\": \"SeaAD\",\n",
    "        \"model\": \"scAGG\",\n",
    "        \"file\": \"out/results/SeaAD_scAGG_full_results.h5ad\",\n",
    "    },\n",
    "    {\n",
    "        \"exp_name\": \"SeaAD\",\n",
    "        \"model\": \"scAGG+GAT\",\n",
    "        \"file\": \"out/results/SeaAD_scAGG+GAT_full_results.h5ad\",\n",
    "    },\n",
    "    {\n",
    "        \"exp_name\": \"SeaAD\",\n",
    "        \"model\": \"scAGG+GAT+AP\",\n",
    "        \"file\": \"out/results/SeaAD_scAGG+GAT+AP_full_results.h5ad\",\n",
    "    },\n",
    "    {\n",
    "        \"exp_name\": \"SeaAD\",\n",
    "        \"model\": \"scAGG+AP\",\n",
    "        \"file\": \"out/results/SeaAD_scAGG+AP_full_results.h5ad\",\n",
    "    },\n",
    "    \n",
    "]"
   ]
  },
  {
   "cell_type": "code",
   "execution_count": null,
   "id": "92d60e9c",
   "metadata": {},
   "outputs": [
    {
     "name": "stdout",
     "output_type": "stream",
     "text": [
      "Processing SeaAD - scAGG\n",
      "dict_keys(['APOE4 Status_colors', 'Great Apes Metadata', 'UW Clinical Metadata', 'X_normalization', 'batch_condition', 'default_embedding', 'log1p', 'neighbors', 'pca', 'perf_test', 'title', 'umap'])\n",
      "Saving performance for SeaAD - scAGG - fold 0\n",
      "Processing SeaAD - scAGG+GAT\n",
      "dict_keys(['APOE4 Status_colors', 'Great Apes Metadata', 'UW Clinical Metadata', 'X_normalization', 'batch_condition', 'default_embedding', 'log1p', 'neighbors', 'pca', 'perf_test', 'title', 'umap'])\n",
      "Saving performance for SeaAD - scAGG+GAT - fold 0\n",
      "Processing SeaAD - scAGG+GAT+AP\n",
      "dict_keys(['APOE4 Status_colors', 'Great Apes Metadata', 'UW Clinical Metadata', 'X_normalization', 'batch_condition', 'default_embedding', 'log1p', 'neighbors', 'pca', 'perf_test', 'title', 'umap'])\n",
      "Saving performance for SeaAD - scAGG+GAT+AP - fold 0\n",
      "Processing SeaAD - scAGG+AP\n",
      "dict_keys(['APOE4 Status_colors', 'Great Apes Metadata', 'UW Clinical Metadata', 'X_normalization', 'batch_condition', 'default_embedding', 'log1p', 'neighbors', 'pca', 'perf_test', 'title', 'umap'])\n",
      "Saving performance for SeaAD - scAGG+AP - fold 0\n"
     ]
    }
   ],
   "source": [
    "def report(file_info, fold, performance):\n",
    "    print(f\"Saving performance for {file_info['exp_name']} - {file_info['model']} - fold {fold}\")\n",
    "    save_perf(\n",
    "        exp_name=file_info[\"exp_name\"],\n",
    "        model_name=file_info[\"model\"],\n",
    "        fold=fold,\n",
    "        accuracy=performance[\"accuracy\"],\n",
    "        precision=performance[\"precision\"],\n",
    "        recall=performance[\"recall\"],\n",
    "        f1=performance[\"f1\"],\n",
    "        roc_auc=performance[\"roc_auc\"],\n",
    "    )\n",
    "\n",
    "\n",
    "for file_info in FILES:\n",
    "    adata = ad.read_h5ad(file_info[\"file\"])\n",
    "    performance = adata.uns\n",
    "\n",
    "    fold = 0\n",
    "    while f\"perf_test_f{fold}\" in adata.uns:\n",
    "        performance = adata.uns[f\"perf_test_f{fold}\"]\n",
    "        report(file_info, fold, performance)\n",
    "        fold += 1\n",
    "\n",
    "    if \"perf_test\" in adata.uns:\n",
    "        performance = adata.uns[\"perf_test\"]\n",
    "        report(file_info, fold, performance)"
   ]
  }
 ],
 "metadata": {
  "kernelspec": {
   "display_name": "default",
   "language": "python",
   "name": "python3"
  },
  "language_info": {
   "codemirror_mode": {
    "name": "ipython",
    "version": 3
   },
   "file_extension": ".py",
   "mimetype": "text/x-python",
   "name": "python",
   "nbconvert_exporter": "python",
   "pygments_lexer": "ipython3",
   "version": "3.12.11"
  }
 },
 "nbformat": 4,
 "nbformat_minor": 5
}
