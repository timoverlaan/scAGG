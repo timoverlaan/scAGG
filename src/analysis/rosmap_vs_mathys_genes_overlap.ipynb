{
 "cells": [
  {
   "cell_type": "code",
   "execution_count": 4,
   "id": "05a73251",
   "metadata": {},
   "outputs": [],
   "source": [
    "ROSMAP_GENES_FILE = \"data/rosmap_top1000_gene_names.txt\"\n",
    "MATHYS_GENES_FILE = \"data/mathys2019_DEGs_genes.txt\"\n",
    "\n",
    "with open(ROSMAP_GENES_FILE, \"r\") as f:\n",
    "    rosmap_genes = set(line.strip() for line in f)\n",
    "    \n",
    "with open(MATHYS_GENES_FILE, \"r\") as f:\n",
    "    line = f.readline().strip()\n",
    "    mathys_genes = set(line.split(\", \"))"
   ]
  },
  {
   "cell_type": "code",
   "execution_count": 1,
   "id": "5b1bdde9",
   "metadata": {},
   "outputs": [],
   "source": [
    "ROSMAP_5k_GENES_FILE = \"data/adata_rosmap_v3_top5000_k30_drop.h5ad\""
   ]
  },
  {
   "cell_type": "code",
   "execution_count": 3,
   "id": "0fda0c71",
   "metadata": {},
   "outputs": [],
   "source": [
    "import anndata as ad\n",
    "\n",
    "adata = ad.read_h5ad(ROSMAP_5k_GENES_FILE)"
   ]
  },
  {
   "cell_type": "code",
   "execution_count": 7,
   "id": "88561610",
   "metadata": {},
   "outputs": [],
   "source": [
    "rosmap_5k_genes = set(adata.var_names)"
   ]
  },
  {
   "cell_type": "code",
   "execution_count": null,
   "id": "bf405d79",
   "metadata": {},
   "outputs": [
    {
     "name": "stdout",
     "output_type": "stream",
     "text": [
      "Number of genes in ROSMAP: 1000\n",
      "Number of genes in Mathys: 1031\n",
      "Number of overlapping genes: 48\n",
      "Overlapping genes:\n",
      "APOE, ATP13A4, ATP8B1, BEX1, CABLES1, CCK, CHGB, EEF1A2, EGR1, GFAP, GJA1, GPC5, HSD17B12, ITGA2, ITGB4, ITPKB, KCNH5, LHFPL3, MAMDC2, MT1E, MT1M, MT2A, MTRNR2L8, NPNT, NR4A2, NRGN, NXPH2, PCED1B, PCP4, PCSK1, PHLDB2, PLA2G4A, PREX2, RAB3A, RGS4, SLC5A11, SLCO1C1, SNCG, SST, STMN2, SV2C, TUBA4A, TUBB2A, TXK, VCAN, YWHAH, ZC3HAV1, ZFP36L1\n"
     ]
    }
   ],
   "source": [
    "# check overlap\n",
    "overlap = rosmap_genes.intersection(mathys_genes)\n",
    "print(f\"Number of genes in ROSMAP: {len(rosmap_genes)}\")\n",
    "print(f\"Number of genes in Mathys: {len(mathys_genes)}\")\n",
    "print(f\"Number of overlapping genes: {len(overlap)}\")\n",
    "print(\"Overlapping genes:\")\n",
    "print(\", \".join(sorted(overlap)))"
   ]
  },
  {
   "cell_type": "code",
   "execution_count": 8,
   "id": "09e51a46",
   "metadata": {},
   "outputs": [
    {
     "name": "stdout",
     "output_type": "stream",
     "text": [
      "Number of overlapping genes with ROSMAP 5k: 230\n",
      "Overlapping genes with ROSMAP 5k:\n",
      "ACTG1, ADAMTSL3, AGPAT4, AHNAK, ANLN, AP1S2, APOC1, APOE, ARHGEF10, ARSI, ATP13A4, AURKAIP1, BEX1, BIN1, C19orf53, C19orf70, C1QC, C1orf54, CA2, CABLES1, CARNS1, CCK, CCP110, CD63, CD81, CHGB, CLDND1, COL27A1, COL9A3, COLGALT2, COX4I1, COX6C, CPE, CPQ, CSMD1, CSRP1, DAPK2, DBI, DDT, DTNA, DYNLL1, EEF1A1, EGR1, EPSTI1, EVA1C, FANCC, FCGBP, FIS1, FMNL3, GADD45A, GADD45B, GALNT15, GFAP, GJA1, GPC5, GPM6A, GPRC5B, GPS2, GREB1L, GRM3, GSTP1, H3F3B, HEY2, HINT1, HLA-DQB1, HSD11B1, HTRA1, HVCN1, IFIT3, IFNGR1, IL18, IL1RAPL1, IQCK, IQGAP1, ITGA2, ITGB4, ITGB8, ITM2A, ITPKB, KCNH8, KCNIP1, KCNIP4, KCTD4, LAMP1, LAMTOR2, LAMTOR5, LARP7, LDB3, LGALS1, LGALS3BP, LHFPL3, LIFR, LINGO1, MAF, MAMDC2, MARCKS, METTL7A, MID1IP1, MRAS, MRPL24, MRPL51, MRPL55, MSRB1, MT1E, MT1M, MT2A, MTRNR2L12, MTRNR2L3, MTRNR2L8, MTSS1L, MYO10, MYO15B, MYO1E, NAMPT, NDUFA1, NDUFA4, NDUFB9, NDUFS5, NEDD9, NKX6-2, NOP10, NPC1, NPNT, NR4A1, NR4A2, NRGN, NXN, NXPH2, OLIG1, PALM2, PCED1B, PCP4, PDE6B, PDE8A, PDGFRA, PHLDB2, PIK3C2B, PIM3, PIP4K2A, PLA2G4A, PLCE1, PLD1, PLXNB1, PPA1, PRDX5, PREX2, PRR13, PSMB6, PTMA, QDPR, RAD51B, RASGEF1B, RDX, REST, RGS6, RHOBTB3, RIN3, RPL29, RPL30, RPL35, RPL36AL, RPL7A, RPLP1, RPS19, RPS2, RPS27, RPS28, RRBP1, S100A6, SAMD9L, SAT1, SCAND1, SCNM1, SEMA3B, SF3B5, SH3TC2, SLC1A5, SLC26A3, SLC38A2, SLC5A11, SLC6A11, SLCO1C1, SNCG, SOD1, SORCS2, SOX10, SOX8, SPARCL1, SPP1, SRP14, SST, STMN1, STMN2, SUN2, SV2C, SYTL3, SYTL4, TBC1D12, TCF7L1, TCF7L2, TESK2, TGFB1, TIMM10, TIMP3, TLE4, TMCC2, TMSB4X, TNFRSF1B, TNIK, TP53TG5, TRAPPC1, TRIM47, TRMT112, TRPC3, TSC22D3, TSC22D4, TUBA4A, TUBB2A, UBC, UQCR10, UST, VCAN, VSIG4, VWA1, YWHAH, ZC3HAV1, ZFP36L1, ZNF423, ZNF565, ZNF593\n"
     ]
    }
   ],
   "source": [
    "# overlap with ROSMAP 5k genes\n",
    "rosmap_5k_overlap = rosmap_5k_genes.intersection(mathys_genes)\n",
    "print(f\"Number of overlapping genes with ROSMAP 5k: {len(rosmap_5k_overlap)}\")\n",
    "print(\"Overlapping genes with ROSMAP 5k:\")\n",
    "print(\", \".join(sorted(rosmap_5k_overlap)))\n"
   ]
  },
  {
   "cell_type": "code",
   "execution_count": 10,
   "id": "58100c15",
   "metadata": {},
   "outputs": [
    {
     "name": "stdout",
     "output_type": "stream",
     "text": [
      "Number of genes in ROSMAP 1k that are also in ROSMAP 5k: 624\n"
     ]
    }
   ],
   "source": [
    "# 1k should be a subset of 5k\n",
    "rosmap_1k_5k_overlap = rosmap_genes.intersection(rosmap_5k_genes)\n",
    "print(f\"Number of genes in ROSMAP 1k that are also in ROSMAP 5k: {len(rosmap_1k_5k_overlap)}\")\n"
   ]
  }
 ],
 "metadata": {
  "kernelspec": {
   "display_name": "default",
   "language": "python",
   "name": "python3"
  },
  "language_info": {
   "codemirror_mode": {
    "name": "ipython",
    "version": 3
   },
   "file_extension": ".py",
   "mimetype": "text/x-python",
   "name": "python",
   "nbconvert_exporter": "python",
   "pygments_lexer": "ipython3",
   "version": "3.12.11"
  }
 },
 "nbformat": 4,
 "nbformat_minor": 5
}
