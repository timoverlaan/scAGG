{
 "cells": [
  {
   "cell_type": "code",
   "execution_count": 6,
   "id": "05a73251",
   "metadata": {},
   "outputs": [],
   "source": [
    "ROSMAP_GENES_FILE = \"data/rosmap_top1000_gene_names.txt\"\n",
    "MATHYS_GENES_FILE = \"data/mathys2019_DEGs_genes.txt\"\n",
    "\n",
    "with open(ROSMAP_GENES_FILE, \"r\") as f:\n",
    "    rosmap_genes = set(line.strip() for line in f)\n",
    "    \n",
    "with open(MATHYS_GENES_FILE, \"r\") as f:\n",
    "    line = f.readline().strip()\n",
    "    mathys_genes = set(line.split(\", \"))"
   ]
  },
  {
   "cell_type": "code",
   "execution_count": null,
   "id": "bf405d79",
   "metadata": {},
   "outputs": [
    {
     "name": "stdout",
     "output_type": "stream",
     "text": [
      "Number of genes in ROSMAP: 1000\n",
      "Number of genes in Mathys: 1031\n",
      "Number of overlapping genes: 48\n",
      "Overlapping genes:\n",
      "APOE, ATP13A4, ATP8B1, BEX1, CABLES1, CCK, CHGB, EEF1A2, EGR1, GFAP, GJA1, GPC5, HSD17B12, ITGA2, ITGB4, ITPKB, KCNH5, LHFPL3, MAMDC2, MT1E, MT1M, MT2A, MTRNR2L8, NPNT, NR4A2, NRGN, NXPH2, PCED1B, PCP4, PCSK1, PHLDB2, PLA2G4A, PREX2, RAB3A, RGS4, SLC5A11, SLCO1C1, SNCG, SST, STMN2, SV2C, TUBA4A, TUBB2A, TXK, VCAN, YWHAH, ZC3HAV1, ZFP36L1\n"
     ]
    }
   ],
   "source": [
    "# check overlap\n",
    "overlap = rosmap_genes.intersection(mathys_genes)\n",
    "print(f\"Number of genes in ROSMAP: {len(rosmap_genes)}\")\n",
    "print(f\"Number of genes in Mathys: {len(mathys_genes)}\")\n",
    "print(f\"Number of overlapping genes: {len(overlap)}\")\n",
    "print(\"Overlapping genes:\")\n",
    "print(\", \".join(sorted(overlap)))"
   ]
  }
 ],
 "metadata": {
  "kernelspec": {
   "display_name": "default",
   "language": "python",
   "name": "python3"
  },
  "language_info": {
   "codemirror_mode": {
    "name": "ipython",
    "version": 3
   },
   "file_extension": ".py",
   "mimetype": "text/x-python",
   "name": "python",
   "nbconvert_exporter": "python",
   "pygments_lexer": "ipython3",
   "version": "3.12.11"
  }
 },
 "nbformat": 4,
 "nbformat_minor": 5
}
